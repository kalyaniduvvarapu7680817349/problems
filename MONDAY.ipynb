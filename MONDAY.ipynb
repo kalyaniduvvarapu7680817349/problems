{
 "cells": [
  {
   "cell_type": "code",
   "execution_count": 1,
   "metadata": {},
   "outputs": [
    {
     "data": {
      "text/plain": [
       "True"
      ]
     },
     "execution_count": 1,
     "metadata": {},
     "output_type": "execute_result"
    }
   ],
   "source": [
    "s=\"python programming\"\n",
    "s.islower()\n"
   ]
  },
  {
   "cell_type": "code",
   "execution_count": 3,
   "metadata": {},
   "outputs": [
    {
     "data": {
      "text/plain": [
       "True"
      ]
     },
     "execution_count": 3,
     "metadata": {},
     "output_type": "execute_result"
    }
   ],
   "source": [
    "def check(s):\n",
    "    if s[0].isupper() and s[-1].isupper():\n",
    "        return True\n",
    "    else:\n",
    "        return False\n",
    "check(\"Python ProgramminG\")"
   ]
  },
  {
   "cell_type": "code",
   "execution_count": 5,
   "metadata": {},
   "outputs": [
    {
     "name": "stdout",
     "output_type": "stream",
     "text": [
      "RAM LAKSHMAN\n"
     ]
    }
   ],
   "source": [
    "s=\"ram Lakshman\"\n",
    "s=s.upper()\n",
    "print(s)"
   ]
  },
  {
   "cell_type": "code",
   "execution_count": 6,
   "metadata": {},
   "outputs": [
    {
     "name": "stdout",
     "output_type": "stream",
     "text": [
      "True\n"
     ]
    }
   ],
   "source": [
    "number=\"12345\"\n",
    "print(number.isdigit())"
   ]
  },
  {
   "cell_type": "code",
   "execution_count": 8,
   "metadata": {},
   "outputs": [
    {
     "data": {
      "text/plain": [
       "'others'"
      ]
     },
     "execution_count": 8,
     "metadata": {},
     "output_type": "execute_result"
    }
   ],
   "source": [
    "def identifyme(s):\n",
    "    if s.isalpha():\n",
    "        return \"Name\"\n",
    "    elif s.isdigit():\n",
    "        return \"numbers\"\n",
    "    else:\n",
    "        return \"others\"\n",
    "identifyme(\"kalyani123\")\n",
    "    "
   ]
  },
  {
   "cell_type": "markdown",
   "metadata": {},
   "source": [
    "### taken the values from the user gives 0 and find and print the minimum and maximum and  sum of numbers in given values"
   ]
  },
  {
   "cell_type": "markdown",
   "metadata": {},
   "source": [
    "example:\n",
    "* \"sai\"\n",
    "* 10\n",
    "* \"ram\"\n",
    "* 20\n",
    "* 5\n",
    "* 0"
   ]
  },
  {
   "cell_type": "code",
   "execution_count": 1,
   "metadata": {},
   "outputs": [
    {
     "name": "stdout",
     "output_type": "stream",
     "text": [
      "sai\n",
      "10\n",
      "ram\n",
      "klyani\n",
      "kalyani\n",
      "20\n",
      "10\n",
      "0\n",
      "[10, 20, 10, 0]\n",
      "minimum 0 maximum 20 sum 40\n"
     ]
    }
   ],
   "source": [
    "li=[]\n",
    "while(True):\n",
    "    s=input()\n",
    "    if s=='0':\n",
    "        li.append(0)\n",
    "        break\n",
    "    if s.isdigit():\n",
    "        li.append(int(s))\n",
    "\n",
    "print(li)\n",
    "print('minimum',min(li),'maximum',max(li),'sum',sum(li))\n",
    "    \n",
    "        \n",
    "    "
   ]
  },
  {
   "cell_type": "code",
   "execution_count": 3,
   "metadata": {},
   "outputs": [
    {
     "data": {
      "text/plain": [
       "'python'"
      ]
     },
     "execution_count": 3,
     "metadata": {},
     "output_type": "execute_result"
    }
   ],
   "source": [
    "name='p y t h o n'\n",
    "s=name.split()\n",
    "\"\".join(s)"
   ]
  },
  {
   "cell_type": "code",
   "execution_count": 3,
   "metadata": {},
   "outputs": [
    {
     "name": "stdout",
     "output_type": "stream",
     "text": [
      "sai 100\n",
      "lakshmi 60\n"
     ]
    }
   ],
   "source": [
    "students=[('sai',\"10,20,30,40\"),('lakshmi',\"10,20,30\")]\n",
    "\n",
    "\n",
    "for student in students:\n",
    "    name=student[0]\n",
    "    marks_string=student[1] # \"10,20,30,40\"\n",
    "    list_string=marks_string.split(',')\n",
    "    total_marks=0\n",
    "    for subject_marks in list_string:\n",
    "        total_marks+=int(subject_marks)\n",
    "    print(name,total_marks)"
   ]
  },
  {
   "cell_type": "code",
   "execution_count": null,
   "metadata": {},
   "outputs": [],
   "source": []
  },
  {
   "cell_type": "code",
   "execution_count": 10,
   "metadata": {},
   "outputs": [
    {
     "name": "stdout",
     "output_type": "stream",
     "text": [
      "['xyz abc mnp ', 'asdf dfss', ' asd ', 'fdas asdsdaff', '']\n",
      "xyz\n",
      "abc\n",
      "mnp\n",
      "\"asdf dfss\"\n",
      "asd\n",
      "\"fdas asdsdaff\"\n"
     ]
    }
   ],
   "source": [
    "paragraph='xyz abc mnp \"asdf dfss\" asd \"fdas asdsdaff\"'\n",
    "sentences=paragraph.split('\"')\n",
    "print(sentences)\n",
    "for sentence in sentences:\n",
    "    if len(sentence)>0:\n",
    "        if sentence.endswith(' '):\n",
    "            for word in sentence.split():\n",
    "                print(word)\n",
    "        else:\n",
    "            print('\"'+sentence+'\"')"
   ]
  },
  {
   "cell_type": "code",
   "execution_count": 16,
   "metadata": {},
   "outputs": [
    {
     "name": "stdout",
     "output_type": "stream",
     "text": [
      "python\n",
      "ram\n",
      "syam\n"
     ]
    }
   ],
   "source": [
    "names=['python','ram','syam','lakshmi']\n",
    "for i in names:\n",
    "    if not (i.endswith('i') or i.endswith('u')):\n",
    "        print(i)\n",
    "        "
   ]
  },
  {
   "cell_type": "code",
   "execution_count": 1,
   "metadata": {},
   "outputs": [
    {
     "name": "stdout",
     "output_type": "stream",
     "text": [
      "p\n",
      "y\n",
      "t\n",
      "h\n",
      "o\n",
      "n\n"
     ]
    }
   ],
   "source": [
    "name=\"python\"\n",
    "for char in name:\n",
    "    print(char)"
   ]
  },
  {
   "cell_type": "code",
   "execution_count": 2,
   "metadata": {},
   "outputs": [
    {
     "data": {
      "text/plain": [
       "2"
      ]
     },
     "execution_count": 2,
     "metadata": {},
     "output_type": "execute_result"
    }
   ],
   "source": [
    "myTuple=(1,2,3,4,3,5)\n",
    "myTuple.index(3)"
   ]
  },
  {
   "cell_type": "code",
   "execution_count": 4,
   "metadata": {},
   "outputs": [
    {
     "data": {
      "text/plain": [
       "4"
      ]
     },
     "execution_count": 4,
     "metadata": {},
     "output_type": "execute_result"
    }
   ],
   "source": [
    "myTuple=(1,2,3,1,2,3)\n",
    "myTuple.index(2,3)"
   ]
  },
  {
   "cell_type": "code",
   "execution_count": 5,
   "metadata": {},
   "outputs": [
    {
     "name": "stdout",
     "output_type": "stream",
     "text": [
      "1 <class 'int'>\n",
      "2 <class 'int'>\n",
      "3 <class 'int'>\n",
      "4 <class 'str'>\n",
      "5 <class 'str'>\n"
     ]
    }
   ],
   "source": [
    "myTuple=(1,2,3,'4','5')\n",
    "for each in myTuple:\n",
    "    print(each,type(each))"
   ]
  },
  {
   "cell_type": "code",
   "execution_count": 7,
   "metadata": {},
   "outputs": [
    {
     "name": "stdout",
     "output_type": "stream",
     "text": [
      "26\n"
     ]
    }
   ],
   "source": [
    "rollno=\"13A85A0504\"\n",
    "s=0\n",
    "for i in rollno:\n",
    "    if i.isdigit():\n",
    "        s=s+int(i)\n",
    "print(s)"
   ]
  },
  {
   "cell_type": "code",
   "execution_count": 10,
   "metadata": {},
   "outputs": [
    {
     "name": "stdout",
     "output_type": "stream",
     "text": [
      "1+2+3+4\n",
      "10\n"
     ]
    }
   ],
   "source": [
    "s=input().split(\"+\")\n",
    "total=0\n",
    "for i in s:\n",
    "    total+=int(i)\n",
    "print(total)"
   ]
  },
  {
   "cell_type": "code",
   "execution_count": 28,
   "metadata": {},
   "outputs": [
    {
     "name": "stdout",
     "output_type": "stream",
     "text": [
      "kalyani\n",
      "inaylak\n"
     ]
    }
   ],
   "source": [
    "s=input()\n",
    "rev=\"\"\n",
    "for i in range(len(s)-1,-1,-1):\n",
    "    rev=rev+s[i]\n",
    "print(rev)\n",
    "    \n",
    "    "
   ]
  },
  {
   "cell_type": "code",
   "execution_count": 36,
   "metadata": {},
   "outputs": [
    {
     "name": "stdout",
     "output_type": "stream",
     "text": [
      "ramu ravi akash\n",
      "akash\n"
     ]
    }
   ],
   "source": [
    "s=input().split()\n",
    "for name in s:\n",
    "    if len(set(name))!=len(name):\n",
    "        print(name)\n",
    "    "
   ]
  },
  {
   "cell_type": "code",
   "execution_count": 39,
   "metadata": {},
   "outputs": [
    {
     "name": "stdout",
     "output_type": "stream",
     "text": [
      "abc xyz \"kalyani 123\" 123 \"123 456\"\n",
      "['abc xyz ', 'kalyani 123', ' 123 ', '123 456', '']\n",
      "abc\n",
      "xyz\n",
      "\"kalyani 123\"\n",
      "123\n",
      "\"123 456\"\n"
     ]
    }
   ],
   "source": [
    "s=input()\n",
    "s1=s.split('\"')\n",
    "print(s1)\n",
    "for i in s1:\n",
    "    if len(i)>0:\n",
    "        if i.endswith(' '):\n",
    "            for j in i.split():\n",
    "                print(j)\n",
    "        else:\n",
    "            print('\"'+i+'\"')"
   ]
  },
  {
   "cell_type": "code",
   "execution_count": 7,
   "metadata": {},
   "outputs": [
    {
     "name": "stdout",
     "output_type": "stream",
     "text": [
      "1\n",
      "2\n",
      "kalyan kalyanoo kalia\n",
      "kr\n"
     ]
    }
   ],
   "source": [
    "li=[]\n",
    "t=int(input())\n",
    "\n",
    "\n",
    "for i in range(t):\n",
    "    l=int(input())\n",
    "    s=input()\n",
    "    pattern=input()\n",
    "    if l==len(s):\n",
    "        for word in s.split():\n",
    "            for char in word:\n",
    "                if char.isupper():\n",
    "                    li.append(char) #WTG\n",
    "            if li==pattern:\n",
    "                print(word)\n",
    "            else:\n",
    "                print(\"not matched\")\n",
    "                \n",
    "                \n",
    "                \n",
    "                \n",
    "\n"
   ]
  },
  {
   "cell_type": "markdown",
   "metadata": {},
   "source": []
  },
  {
   "cell_type": "code",
   "execution_count": null,
   "metadata": {},
   "outputs": [],
   "source": []
  },
  {
   "cell_type": "code",
   "execution_count": null,
   "metadata": {},
   "outputs": [],
   "source": []
  },
  {
   "cell_type": "code",
   "execution_count": null,
   "metadata": {},
   "outputs": [],
   "source": []
  },
  {
   "cell_type": "code",
   "execution_count": null,
   "metadata": {},
   "outputs": [],
   "source": []
  },
  {
   "cell_type": "code",
   "execution_count": null,
   "metadata": {},
   "outputs": [],
   "source": []
  },
  {
   "cell_type": "code",
   "execution_count": null,
   "metadata": {},
   "outputs": [],
   "source": []
  },
  {
   "cell_type": "code",
   "execution_count": null,
   "metadata": {},
   "outputs": [],
   "source": []
  }
 ],
 "metadata": {
  "kernelspec": {
   "display_name": "Python 3",
   "language": "python",
   "name": "python3"
  },
  "language_info": {
   "codemirror_mode": {
    "name": "ipython",
    "version": 3
   },
   "file_extension": ".py",
   "mimetype": "text/x-python",
   "name": "python",
   "nbconvert_exporter": "python",
   "pygments_lexer": "ipython3",
   "version": "3.7.3"
  }
 },
 "nbformat": 4,
 "nbformat_minor": 2
}
