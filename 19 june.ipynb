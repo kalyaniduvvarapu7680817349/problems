{
 "cells": [
  {
   "cell_type": "markdown",
   "metadata": {},
   "source": [
    "### Find Product"
   ]
  },
  {
   "cell_type": "code",
   "execution_count": 16,
   "metadata": {},
   "outputs": [
    {
     "name": "stdout",
     "output_type": "stream",
     "text": [
      "5\n",
      "1 2 3 4 5\n",
      "120\n"
     ]
    }
   ],
   "source": [
    "def product(num):\n",
    "    answer = 1\n",
    "    for i in num.split():\n",
    "        answer = (answer*int(i))%(10**9+7)\n",
    "        \n",
    "    print(answer)\n",
    "    \n",
    " \n",
    "n=int(input())\n",
    " \n",
    "numbers = input()\n",
    " \n",
    "product(numbers)"
   ]
  },
  {
   "cell_type": "code",
   "execution_count": null,
   "metadata": {},
   "outputs": [],
   "source": []
  },
  {
   "cell_type": "markdown",
   "metadata": {},
   "source": [
    "### Cipher"
   ]
  },
  {
   "cell_type": "code",
   "execution_count": 19,
   "metadata": {
    "scrolled": true
   },
   "outputs": [
    {
     "name": "stdout",
     "output_type": "stream",
     "text": [
      "All\n",
      "E\n",
      "V\n",
      "V\n"
     ]
    }
   ],
   "source": [
    "s=input()\n",
    "n=4\n",
    "def cipher(s):\n",
    "    for i in range(len(s)):\n",
    "        if s.upper():\n",
    "            print(chr((ord(s[i]) + n-65) % 26 + 65))\n",
    "        \n",
    "        elif s.lower():\n",
    "            print(chr((ord(s[i]) + n-97) % 26 + 97))\n",
    "            \n",
    "\n",
    "\n",
    "        \n",
    "cipher(s)\n"
   ]
  },
  {
   "cell_type": "code",
   "execution_count": 20,
   "metadata": {},
   "outputs": [
    {
     "data": {
      "text/plain": [
       "'a'"
      ]
     },
     "execution_count": 20,
     "metadata": {},
     "output_type": "execute_result"
    }
   ],
   "source": [
    "chr(97)"
   ]
  },
  {
   "cell_type": "code",
   "execution_count": 25,
   "metadata": {},
   "outputs": [
    {
     "name": "stdout",
     "output_type": "stream",
     "text": [
      "All-convoYs-9-be:Alert1\n",
      "E p p 1 g s r z s ] w 1 = 1 f i > E p i v x 5 "
     ]
    }
   ],
   "source": [
    "s=input()\n",
    "n=4\n",
    "def cipher(s):\n",
    "    for i in range(len(s)):\n",
    "        if s.upper():\n",
    "            print(chr((ord(s[i]) + n-65)+65),end=\" \")\n",
    "                \n",
    "        \n",
    "        elif s.lower():\n",
    "            print(chr((ord(s[i]) + n-97)+65),end=\" \")\n",
    "            \n",
    "        \n",
    "        elif s.isdigit():\n",
    "            print(int(i+n))\n",
    " \n",
    "\n",
    "#All-convoYs-9-be:Alert1.\n",
    "#Epp-gsrzsCw-3-fi:Epivx5\n",
    "\n",
    "        \n",
    "cipher(s)\n"
   ]
  },
  {
   "cell_type": "code",
   "execution_count": null,
   "metadata": {},
   "outputs": [],
   "source": []
  },
  {
   "cell_type": "code",
   "execution_count": null,
   "metadata": {},
   "outputs": [],
   "source": []
  }
 ],
 "metadata": {
  "kernelspec": {
   "display_name": "Python 3",
   "language": "python",
   "name": "python3"
  },
  "language_info": {
   "codemirror_mode": {
    "name": "ipython",
    "version": 3
   },
   "file_extension": ".py",
   "mimetype": "text/x-python",
   "name": "python",
   "nbconvert_exporter": "python",
   "pygments_lexer": "ipython3",
   "version": "3.7.3"
  }
 },
 "nbformat": 4,
 "nbformat_minor": 2
}
