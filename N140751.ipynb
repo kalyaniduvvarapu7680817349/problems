{
 "cells": [
  {
   "cell_type": "code",
   "execution_count": 9,
   "metadata": {},
   "outputs": [
    {
     "name": "stdout",
     "output_type": "stream",
     "text": [
      "100 300 100 200\n",
      "600\n"
     ]
    }
   ],
   "source": [
    "li=list(map(int,input().split()))\n",
    "li=set(li)\n",
    "s=0\n",
    "for i in li:\n",
    "    if len(str(i))==3:\n",
    "        s=s+i\n",
    "print(s)"
   ]
  },
  {
   "cell_type": "code",
   "execution_count": 14,
   "metadata": {},
   "outputs": [
    {
     "name": "stdout",
     "output_type": "stream",
     "text": [
      "100 300 100 200 10 3 4\n",
      "200\n"
     ]
    }
   ],
   "source": [
    "li=list(map(int,input().split()))\n",
    "li=set(li)\n",
    "s=0\n",
    "count=0\n",
    "for i in li:\n",
    "    if i>99 and i<=999:\n",
    "        s=s+int(i)\n",
    "        count=count+1\n",
    "        avg=s//count\n",
    "print(avg)"
   ]
  },
  {
   "cell_type": "code",
   "execution_count": 17,
   "metadata": {},
   "outputs": [
    {
     "name": "stdout",
     "output_type": "stream",
     "text": [
      "https://www.google.com  https://www.gmail.com  https:www.eenadu.net  https://www.gmail.com  https://www.google.com\n"
     ]
    },
    {
     "data": {
      "text/plain": [
       "{'https://www.gmail.com', 'https://www.google.com', 'https:www.eenadu.net'}"
      ]
     },
     "execution_count": 17,
     "metadata": {},
     "output_type": "execute_result"
    }
   ],
   "source": [
    "li=input().split()\n",
    "li=set(li)\n",
    "li"
   ]
  },
  {
   "cell_type": "code",
   "execution_count": 1,
   "metadata": {},
   "outputs": [
    {
     "name": "stdout",
     "output_type": "stream",
     "text": [
      "aaaabbbbbbccccc\n",
      "(4, 'a') (6, 'b') (5, 'c') "
     ]
    }
   ],
   "source": [
    "#counting\n",
    "s=input()\n",
    "s1=\" \"\n",
    "for i in s:\n",
    "    if i not in s1:\n",
    "        s1=s1+i\n",
    "for i in s1:\n",
    "    if i in s:\n",
    "        c=s.count(i)\n",
    "        print((c,i),end=\" \")"
   ]
  },
  {
   "cell_type": "code",
   "execution_count": 2,
   "metadata": {},
   "outputs": [
    {
     "name": "stdout",
     "output_type": "stream",
     "text": [
      "Mahesh\n",
      "1 3\n",
      "haMesh\n"
     ]
    }
   ],
   "source": [
    "# Mahesh\n",
    "l=input()\n",
    "s,e=map(int,input().split())\n",
    "if s==1:\n",
    "    print(l[e-1::-1]+l[e:])\n",
    "else:\n",
    "    print(l[:s-1]+l[e-1:s-2:-1]+l[e:])\n",
    "    "
   ]
  },
  {
   "cell_type": "code",
   "execution_count": null,
   "metadata": {},
   "outputs": [],
   "source": []
  }
 ],
 "metadata": {
  "kernelspec": {
   "display_name": "Python 3",
   "language": "python",
   "name": "python3"
  },
  "language_info": {
   "codemirror_mode": {
    "name": "ipython",
    "version": 3
   },
   "file_extension": ".py",
   "mimetype": "text/x-python",
   "name": "python",
   "nbconvert_exporter": "python",
   "pygments_lexer": "ipython3",
   "version": "3.7.3"
  }
 },
 "nbformat": 4,
 "nbformat_minor": 2
}
