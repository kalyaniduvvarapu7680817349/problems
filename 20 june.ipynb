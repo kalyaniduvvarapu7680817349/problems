{
 "cells": [
  {
   "cell_type": "markdown",
   "metadata": {},
   "source": [
    "### Day Objectives"
   ]
  },
  {
   "cell_type": "markdown",
   "metadata": {},
   "source": [
    "Regular Expressions\n",
    "\n",
    "    - Constructing Regular Expressions for various use cases\n",
    "    - Regular Expressions Module and related in python\n",
    "    - Improving the contacts application with name and phone number validation using regular expressions\n",
    "File Handling\n",
    "\n",
    "    - Text Files\n",
    "    - Upgrading the contacts Application to store contact information in a text file"
   ]
  },
  {
   "cell_type": "markdown",
   "metadata": {},
   "source": [
    "### Regular Expressions\n",
    "\n",
    "- pattern Matching\n",
    "\n",
    "- Symbolic Notation of a pattern\n",
    "\n",
    "    - Pattern : Format which repeates\n",
    "    \n",
    "    - Pattern(RE) represents The set of all values match that patterns\n",
    "    \n",
    "- [0-9] -> Any digit\n",
    "\n",
    "- [a-z] -> Any lower case alphabet\n",
    "\n",
    "- [2468] -> All single digit multiples of 2\n",
    "\n",
    "- ^[0-9]{1}$ -> Only single digit numbers\n",
    "\n",
    "- ^[0-9]{3}& -> Only 3 digit numbers\n",
    "\n",
    "-  [0-9]*0$ -> All multiples of 10\n",
    "\n",
    "- ^[1-9][0-9]*[05]$|^([5])$  ->All multiples of 5\n",
    "\n",
    "- ^[1-9][0-9]{9}$   ->All 10 digit numbers\n",
    "\n",
    "- [w][o][r][d] or (word)  -> searching for a particular 'word'\n",
    "            \n",
    "-^[6-9][0-9]{9}$|^[0][6-9][0-9]{9}$|^[+][9][1][6-9][0-9]{9}$->Validating Phone number(India)(start with 9876 followed by 9 digits)\n",
    "            \n",
    "-->Email Validation(username@domain.extension)\n",
    "    -Username\n",
    "        -Length of username : [6,15]\n",
    "        -No special characters other than _.\n",
    "        -Should not begin with_.\n",
    "        - All digits and alphabet\n",
    "     ^[0-9a-z][0-9a-z_.]{4,13}[0-9a-z]$\n",
    "    - domain\n",
    "        -Length of domain :[3,18]\n",
    "        -No special characters\n",
    "        -Character Set : all digits and alphabet\n",
    "    - extension\n",
    "        -Length of extension : [2,4]\n",
    "        - No special Characters\n",
    "        - Character Set :alphabet\n",
    "        \n",
    "        \n",
    "        \n",
    "gmail-^[0-9a-z][0-9a-z_.]{4,13}[0-9a-z][@][a-z0-9]{3,18}[.][a-z]{2,4}$\n",
    "\n",
    "- Any String of length 5 that starts with 'a' and ends with 'z' \n",
    "    ^[a]...[z]$\n",
    "    \n",
    "- Any String of any length that starts with \"a\" and ends with \"z\"\n",
    "\n",
    "    ^[a].*[z]$"
   ]
  },
  {
   "cell_type": "code",
   "execution_count": 59,
   "metadata": {},
   "outputs": [
    {
     "data": {
      "text/plain": [
       "True"
      ]
     },
     "execution_count": 59,
     "metadata": {},
     "output_type": "execute_result"
    }
   ],
   "source": [
    "# Function to validate a number\n",
    "import re\n",
    "def PhoneNumberValidator(number):\n",
    "    pattern='^[6-9][0-9]{9}$|^[0][6-9][0-9]{9}|^[+][9][1][6-9][0-9]{9}$'\n",
    "    if re.match(pattern,str(number)):\n",
    "        return True\n",
    "    \n",
    "PhoneNumberValidator(9876543210)\n",
    "\n",
    "def emailValidator(email):\n",
    "    pattern='^[0-9a-z][0-9a-z_.]{4,13}[0-9a-z][@][a-z0-9]{3,18}[.][a-z]{2,4}$'\n",
    "    if re.match(pattern,email):\n",
    "        return True\n",
    "    return False\n",
    "emailValidator(\"kalyani751@gmail.com\")"
   ]
  },
  {
   "cell_type": "code",
   "execution_count": 41,
   "metadata": {},
   "outputs": [
    {
     "name": "stdout",
     "output_type": "stream",
     "text": [
      "contact name1 added\n"
     ]
    }
   ],
   "source": [
    "contacts={}\n",
    "def AddContact(name,phone):\n",
    "    #Verify the contact does not already exist\n",
    "    if name not in contacts and PhoneNumberValidator:\n",
    "        contacts[name]=phone\n",
    "        print(\"contact %s added\" % name)\n",
    "    if  not PhoneNumberValidator(phone):\n",
    "        print(\"contact %s already exists\" % name)\n",
    "    return\n",
    "AddContact(\"name1\",\"7680817349\")"
   ]
  },
  {
   "cell_type": "code",
   "execution_count": 62,
   "metadata": {},
   "outputs": [
    {
     "name": "stdout",
     "output_type": "stream",
     "text": [
      "name3 added successfully\n"
     ]
    }
   ],
   "source": [
    "contacts={\"name1\":[1234567890,'name1@domain.ext'],\"name2\":[9087654321,'name2@domain.ext']}\n",
    "\n",
    "def addcontact(name,phone,email):\n",
    "    if name in contacts:\n",
    "        print(name,\"alreadyexist\")\n",
    "    else:\n",
    "        if not PhoneNumberValidator(phone):\n",
    "            print(\"invalid phone number\")\n",
    "            return\n",
    "        if not emailValidator(email):\n",
    "            print(\"invalid email address\")\n",
    "            return\n",
    "        newcontact=[]\n",
    "        newcontact.append(phone)\n",
    "        newcontact.append(email)\n",
    "        contacts[name]=newcontact\n",
    "        print(name,\"added successfully\")\n",
    "    return\n",
    "\n",
    "addcontact(\"name3\",9807654321,\"ram1234@gmail.com\")"
   ]
  },
  {
   "cell_type": "code",
   "execution_count": null,
   "metadata": {},
   "outputs": [],
   "source": []
  },
  {
   "cell_type": "code",
   "execution_count": 72,
   "metadata": {},
   "outputs": [
    {
     "name": "stdout",
     "output_type": "stream",
     "text": [
      "name1\n",
      "Phone: 1234567890\n",
      "Email: name1@domain.ext\n"
     ]
    }
   ],
   "source": [
    "def searchContacts(name):\n",
    "    if name in contacts:\n",
    "        print(name)\n",
    "        print(\"Phone:\",contacts[name][0])\n",
    "        print(\"Email:\",contacts[name][1])\n",
    "    else:\n",
    "        print(\"%s does not exists\" %name)\n",
    "    return\n",
    "searchContacts(\"name1\")"
   ]
  },
  {
   "cell_type": "code",
   "execution_count": null,
   "metadata": {},
   "outputs": [],
   "source": []
  },
  {
   "cell_type": "code",
   "execution_count": 74,
   "metadata": {},
   "outputs": [
    {
     "name": "stdout",
     "output_type": "stream",
     "text": [
      "1 contacts added successfully\n"
     ]
    },
    {
     "data": {
      "text/plain": [
       "{'name1': [1234567890, 'name1@domain.ext'],\n",
       " 'name2': [9087654321, 'name2@domain.ext'],\n",
       " 'name3': [9807654321, 'ram1234@gmail.com'],\n",
       " 'name4': [6303446128, 'name4_123@gmail.com']}"
      ]
     },
     "execution_count": 74,
     "metadata": {},
     "output_type": "execute_result"
    }
   ],
   "source": [
    "def importContacts(newContacts):\n",
    "    contacts.update(newContacts)\n",
    "    print(len(newContacts.keys()),\"contacts added successfully\")\n",
    "    return\n",
    "newContacts={\"name4\":[6303446128,\"name4_123@gmail.com\"]}\n",
    "             \n",
    "importContacts(newContacts)\n",
    "contacts"
   ]
  },
  {
   "cell_type": "code",
   "execution_count": null,
   "metadata": {},
   "outputs": [],
   "source": []
  },
  {
   "cell_type": "code",
   "execution_count": 77,
   "metadata": {},
   "outputs": [
    {
     "name": "stdout",
     "output_type": "stream",
     "text": [
      "name1 \n",
      " Phone: 1234567890 \n",
      " Email: name1@domain.ext\n",
      "name2 \n",
      " Phone: 9087654321 \n",
      " Email: name2@domain.ext\n",
      "name3 \n",
      " Phone: 9807654321 \n",
      " Email: ram1234@gmail.com\n",
      "name4 \n",
      " Phone: 6303446128 \n",
      " Email: name4_123@gmail.com\n"
     ]
    }
   ],
   "source": [
    "def listAllContacts():\n",
    "    for contact,info in contacts.items():\n",
    "        print(contact, \"\\n\",\"Phone:\",info[0],\"\\n\",\"Email:\",info[1])\n",
    "    return\n",
    "listAllContacts()"
   ]
  },
  {
   "cell_type": "markdown",
   "metadata": {},
   "source": [
    "### File Handling in Python\n",
    "\n",
    "File- Document containing information residing on the permanent storage\n",
    "Types - Text PDF,CSV etc\n",
    "\n",
    "File I/O - Channeling I/O data to files\n",
    "\n",
    "Default I/0 channels - Keyboard/Screen\n",
    "\n",
    "Read a File - Input from file\n",
    "\n",
    "Write to a file - Output to a file\n",
    "\n",
    "Read a file - open(filename,mode)\n",
    " \n",
    "mode mean read or write"
   ]
  },
  {
   "cell_type": "code",
   "execution_count": 91,
   "metadata": {},
   "outputs": [
    {
     "name": "stdout",
     "output_type": "stream",
     "text": [
      "line1\n",
      "\n",
      "line2\n",
      "\n",
      "line3\n"
     ]
    }
   ],
   "source": [
    "#Function to read file\n",
    "\n",
    "def readFile(filename):\n",
    "    f=open(filename,'r')  # r means read\n",
    "    filedata=f.read()\n",
    "    f.close()\n",
    "    return filedata\n",
    "\n",
    "\n",
    "filename='DataFile\\data.txt'\n",
    "filedata=readFile(filename)\n",
    "#for line in filedata.split('\\n'):\n",
    "    #print(line)\n",
    "    #readFile(filename)\n",
    "    \n",
    "def printFileDtaLines(filename):\n",
    "    f=open(filename,'r')\n",
    "    for line in f:\n",
    "        print(line)\n",
    "    return\n",
    "\n",
    "printFileDtaLines(filename)    "
   ]
  },
  {
   "cell_type": "code",
   "execution_count": 96,
   "metadata": {},
   "outputs": [],
   "source": [
    "# function to write data into a file\n",
    "def writeIntoFile(filename,filedata):\n",
    "        with open(filename,'w') as f:\n",
    "            f.write(filedata)\n",
    "        return\n",
    "filename='DataFile\\data.txt'\n",
    "writeIntoFile(filename,\"new data/n\")"
   ]
  },
  {
   "cell_type": "code",
   "execution_count": 99,
   "metadata": {},
   "outputs": [],
   "source": [
    "# Function to append data to a file\n",
    "\n",
    "def appendDataToFile(filename,filedata):\n",
    "    with open(filename,'a') as f:\n",
    "        return\n",
    "filedata=\"Line2/nLine3\"\n",
    "appendDataToFile(filename,filedata)"
   ]
  },
  {
   "cell_type": "code",
   "execution_count": null,
   "metadata": {},
   "outputs": [],
   "source": []
  },
  {
   "cell_type": "markdown",
   "metadata": {},
   "source": [
    "### Hackerearth Problems Sollutions- 20th june"
   ]
  },
  {
   "cell_type": "code",
   "execution_count": 18,
   "metadata": {},
   "outputs": [
    {
     "name": "stdout",
     "output_type": "stream",
     "text": [
      "1234\n"
     ]
    },
    {
     "data": {
      "text/plain": [
       "'2'"
      ]
     },
     "execution_count": 18,
     "metadata": {},
     "output_type": "execute_result"
    }
   ],
   "source": [
    "# Finding interger length\n",
    "n=input()\n",
    "str(n[1])\n",
    "#len(str(n))"
   ]
  },
  {
   "cell_type": "markdown",
   "metadata": {},
   "source": [
    "### Ali and Helping Innocent People"
   ]
  },
  {
   "cell_type": "code",
   "execution_count": 35,
   "metadata": {},
   "outputs": [
    {
     "name": "stdout",
     "output_type": "stream",
     "text": [
      "12X345-67\"\n",
      "invalid\n"
     ]
    }
   ],
   "source": [
    "def ali(s):\n",
    "    if (int(s[0])+int(s[1]))%2==0 and (int(s[3])+int(s[4]))%2==0 and (int(s[4])+int(s[5]))%2==0 and (int(s[7])+int(s[8]))%2==0:\n",
    "        if (s[2])!=\"A\" or (s[2])!=\"E\" or (s[2])!=\"I\" or (s[2])!=\"O\" or (s[2])!=\"U\" or (s[2])!=\"Y\":\n",
    "            print(\"valid\")\n",
    "        else:\n",
    "            print(\"invalid\")\n",
    "    else:\n",
    "        print(\"invalid\")\n",
    "\n",
    "s=input()\n",
    "list=list(s)\n",
    "ali(list)"
   ]
  },
  {
   "cell_type": "markdown",
   "metadata": {},
   "source": [
    "\n",
    "### Book Of Potion Making"
   ]
  },
  {
   "cell_type": "code",
   "execution_count": 45,
   "metadata": {},
   "outputs": [
    {
     "name": "stdout",
     "output_type": "stream",
     "text": [
      "1234567890\n",
      "Illegal ISBN\n"
     ]
    }
   ],
   "source": [
    "def BookOfPortion(n):\n",
    "    if len(n)!=10:\n",
    "        print('Illegal ISBN')\n",
    "    elif len(n)==10:\n",
    "        if (int(n[0])*1+int(n[1])*2+int(n[2])*3+int(n[3])*4+int(n[4])*5+int(n[5])*6+int(n[6])*7+int(n[7])*8+int(n[8])*9+int(n[9])*10)%11==0:\n",
    "            print('Legal ISBN')\n",
    "        else:\n",
    "            print('Illegal ISBN')\n",
    "    else:\n",
    "        print('Illegal ISBN')\n",
    "n=input()\n",
    "BookOfPortion(n)"
   ]
  },
  {
   "cell_type": "markdown",
   "metadata": {},
   "source": [
    "### Roy Profile Picture"
   ]
  },
  {
   "cell_type": "code",
   "execution_count": 102,
   "metadata": {},
   "outputs": [
    {
     "name": "stdout",
     "output_type": "stream",
     "text": [
      "180\n",
      "3\n",
      "640 480\n",
      "CROP IT\n",
      "180 180\n",
      "ACCEPTED\n",
      "120 300\n",
      "UPLOAD ANOTHER\n"
     ]
    }
   ],
   "source": [
    "# Using Test cases\n",
    "\n",
    "def ProfilePicture(W,H):\n",
    "    if W<L or H<L:\n",
    "        print(\"UPLOAD ANOTHER\")\n",
    "    elif (W==L and H==L) or (W>L and H>L and W==H):\n",
    "        print(\"ACCEPTED\")\n",
    "    elif (W>L and H>L and W!=H) or (W==L and H>L) or (W>L and H==L ):\n",
    "        print(\"CROP IT\")\n",
    "        \n",
    "            \n",
    "L=int(input())\n",
    "n=int(input())\n",
    "\n",
    "\n",
    "for i in range(1,n+1):\n",
    "    TC=input().split()\n",
    "    W=int(TC[0])\n",
    "    H=int(TC[1])\n",
    "    ProfilePicture(W,H)"
   ]
  },
  {
   "cell_type": "code",
   "execution_count": 105,
   "metadata": {},
   "outputs": [
    {
     "name": "stdout",
     "output_type": "stream",
     "text": [
      "180\n",
      "180\n",
      "180\n",
      "ACCEPTED\n"
     ]
    }
   ],
   "source": [
    "# NOT USING TEST CASES\n",
    "\n",
    "def ProfilePicture(W,H):\n",
    "    if W<L or H<L:\n",
    "        print(\"UPLOAD ANOTHER\")\n",
    "    elif (W>L and H>L):\n",
    "        if(W==H):\n",
    "            print(\"ACCEPTED\")\n",
    "        else: \n",
    "            print(\"CROP IT\")\n",
    "    elif (W==L and W==H):\n",
    "        print(\"ACCEPTED\")\n",
    "        \n",
    "            \n",
    "L=int(input()) \n",
    "\n",
    "W=int(input())\n",
    "H=int(input())\n",
    "\n",
    "ProfilePicture(W,H)"
   ]
  },
  {
   "cell_type": "code",
   "execution_count": null,
   "metadata": {},
   "outputs": [],
   "source": []
  }
 ],
 "metadata": {
  "kernelspec": {
   "display_name": "Python 3",
   "language": "python",
   "name": "python3"
  },
  "language_info": {
   "codemirror_mode": {
    "name": "ipython",
    "version": 3
   },
   "file_extension": ".py",
   "mimetype": "text/x-python",
   "name": "python",
   "nbconvert_exporter": "python",
   "pygments_lexer": "ipython3",
   "version": "3.7.3"
  }
 },
 "nbformat": 4,
 "nbformat_minor": 2
}
