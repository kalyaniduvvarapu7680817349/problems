{
 "cells": [
  {
   "cell_type": "code",
   "execution_count": 5,
   "metadata": {},
   "outputs": [
    {
     "name": "stdout",
     "output_type": "stream",
     "text": [
      "10\n",
      "2 3 5 7 "
     ]
    }
   ],
   "source": [
    "#Print prime numbers up to given range. --> input: 10 output: 2 3 5 7\n",
    "\n",
    "def isprime(n):\n",
    "    for i in range(2,n//2+1):\n",
    "        if n%i==0:\n",
    "            return False\n",
    "    return True\n",
    "\n",
    "n=int(input())\n",
    "#def prime(n):\n",
    "for i in range(2,n):\n",
    "    if isprime(i):\n",
    "        print(i,end=\" \")"
   ]
  },
  {
   "cell_type": "code",
   "execution_count": 3,
   "metadata": {},
   "outputs": [
    {
     "name": "stdout",
     "output_type": "stream",
     "text": [
      "5\n",
      "120\n"
     ]
    }
   ],
   "source": [
    "#Print factorial of a given number if it is a prime otherwise print power of the value.\n",
    "n=int(input())\n",
    "def isprime(n):\n",
    "    for i in range(2,n//2+1):\n",
    "        if n%i==0:\n",
    "            return False\n",
    "    return True\n",
    "\n",
    "def fact(n):\n",
    "    fact=1\n",
    "    if isprime(n):\n",
    "        for i in range(1,n+1):\n",
    "            fact=fact*i\n",
    "        print(fact)\n",
    "    else:\n",
    "        print(n*n)\n",
    "fact(n)\n",
    "        \n",
    "\n",
    "    "
   ]
  },
  {
   "cell_type": "markdown",
   "metadata": {},
   "source": [
    "#### print factorial\n",
    "\n",
    "def factorial(n):\n",
    "    fact=1\n",
    "    for i in range(1,n+1):\n",
    "        fact=fact*i\n",
    "    print(fact)\n",
    "factorial(5)"
   ]
  },
  {
   "cell_type": "code",
   "execution_count": 5,
   "metadata": {},
   "outputs": [
    {
     "name": "stdout",
     "output_type": "stream",
     "text": [
      "2\n",
      "5\n",
      "1 5\n",
      "3 5 7 2 3\n",
      "5 20\n"
     ]
    }
   ],
   "source": [
    "### 5.print count and sum of digits in a given string \n",
    "\n",
    "#### test cases: 2\n",
    "#### 5 ---> 1 5\n",
    "#### 3 5 7 2 3  ---> 5 20\n",
    "\n",
    "t=int(input())\n",
    "#n=input().split()\n",
    "#li=list(map(int,n))\n",
    "#count=0\n",
    "#s=0\n",
    "\n",
    "for j in range(t):\n",
    "    n=input().split()\n",
    "    li=list(map(int,n))\n",
    "    count=0\n",
    "    s=0\n",
    "    for i in li:\n",
    "        s=s+i\n",
    "        count=count+1\n",
    "    print(count,end=\" \")\n",
    "    print(s)\n",
    "    \n",
    "    \n"
   ]
  },
  {
   "cell_type": "code",
   "execution_count": 14,
   "metadata": {},
   "outputs": [
    {
     "name": "stdout",
     "output_type": "stream",
     "text": [
      "4 1 0 2 1 7\n"
     ]
    },
    {
     "data": {
      "text/plain": [
       "4"
      ]
     },
     "execution_count": 14,
     "metadata": {},
     "output_type": "execute_result"
    }
   ],
   "source": [
    "#Print second Max Ex: 12 34 23 45 65 o/p:45\n",
    "\n",
    "n=input().split()\n",
    "li=list(map(int,n))\n",
    "li.sort()\n",
    "li[-2]\n"
   ]
  },
  {
   "cell_type": "code",
   "execution_count": 19,
   "metadata": {},
   "outputs": [
    {
     "name": "stdout",
     "output_type": "stream",
     "text": [
      "3\n",
      "b\n",
      "1\n",
      "hello\n",
      "120\n",
      "hello python\n",
      "nohtyp olleh\n"
     ]
    }
   ],
   "source": [
    "### 6.Print factorial of a value if the length of a string is  prime otherwise print string in reverse\n",
    "\n",
    "#### test cases : 3\n",
    "#### b --> 1 \n",
    "#### hello -->120\n",
    "#### hello python ->nohtyp olleh\n",
    "\n",
    "\n",
    "t1=int(input())\n",
    "for j in range(t1):\n",
    "    s=input()\n",
    "    if isprime(len(s)):\n",
    "        fact(len(s))\n",
    "    else:\n",
    "        print(s[::-1])\n",
    "        "
   ]
  },
  {
   "cell_type": "markdown",
   "metadata": {},
   "source": []
  },
  {
   "cell_type": "code",
   "execution_count": null,
   "metadata": {},
   "outputs": [],
   "source": []
  }
 ],
 "metadata": {
  "kernelspec": {
   "display_name": "Python 3",
   "language": "python",
   "name": "python3"
  },
  "language_info": {
   "codemirror_mode": {
    "name": "ipython",
    "version": 3
   },
   "file_extension": ".py",
   "mimetype": "text/x-python",
   "name": "python",
   "nbconvert_exporter": "python",
   "pygments_lexer": "ipython3",
   "version": "3.7.3"
  }
 },
 "nbformat": 4,
 "nbformat_minor": 2
}
