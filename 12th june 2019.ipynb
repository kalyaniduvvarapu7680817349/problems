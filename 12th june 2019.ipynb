{
 "cells": [
  {
   "cell_type": "markdown",
   "metadata": {},
   "source": [
    "### Problem Solving and Programming\n",
    "### 12th June"
   ]
  },
  {
   "cell_type": "markdown",
   "metadata": {},
   "source": [
    "### String Slicing"
   ]
  },
  {
   "cell_type": "code",
   "execution_count": 1,
   "metadata": {},
   "outputs": [
    {
     "data": {
      "text/plain": [
       "'y'"
      ]
     },
     "execution_count": 1,
     "metadata": {},
     "output_type": "execute_result"
    }
   ],
   "source": [
    "s1=\"python\"\n",
    "s1[0] #Accessing the first character"
   ]
  },
  {
   "cell_type": "code",
   "execution_count": 2,
   "metadata": {},
   "outputs": [
    {
     "data": {
      "text/plain": [
       "'u'"
      ]
     },
     "execution_count": 2,
     "metadata": {},
     "output_type": "execute_result"
    }
   ],
   "source": [
    "s1=\"qewrwt56uynjhgmbnmu\"\n",
    "s1[-1] #Accessing the last character"
   ]
  },
  {
   "cell_type": "code",
   "execution_count": 9,
   "metadata": {},
   "outputs": [
    {
     "data": {
      "text/plain": [
       "'mu'"
      ]
     },
     "execution_count": 9,
     "metadata": {},
     "output_type": "execute_result"
    }
   ],
   "source": [
    "s1=\"qewrwt56uynjhgmbnmu\"\n",
    "s1[len(s1)-1] #Accessing the last character\n",
    "s1[0:2] #Accessing the first two character\n",
    "s1[-2:] #Accessing last two characters"
   ]
  },
  {
   "cell_type": "code",
   "execution_count": 11,
   "metadata": {},
   "outputs": [
    {
     "data": {
      "text/plain": [
       "'ytho'"
      ]
     },
     "execution_count": 11,
     "metadata": {},
     "output_type": "execute_result"
    }
   ],
   "source": [
    "# Accessing all characters except 1st and last character\n",
    "s2=\"python\"\n",
    "s2[1:-1]"
   ]
  },
  {
   "cell_type": "code",
   "execution_count": 19,
   "metadata": {},
   "outputs": [
    {
     "data": {
      "text/plain": [
       "'y'"
      ]
     },
     "execution_count": 19,
     "metadata": {},
     "output_type": "execute_result"
    }
   ],
   "source": [
    "s1[len(s1)//2]"
   ]
  },
  {
   "cell_type": "code",
   "execution_count": 17,
   "metadata": {},
   "outputs": [
    {
     "data": {
      "text/plain": [
       "'h'"
      ]
     },
     "execution_count": 17,
     "metadata": {},
     "output_type": "execute_result"
    }
   ],
   "source": [
    "s2[len(s2)//2]"
   ]
  },
  {
   "cell_type": "code",
   "execution_count": 17,
   "metadata": {},
   "outputs": [
    {
     "data": {
      "text/plain": [
       "'no'"
      ]
     },
     "execution_count": 17,
     "metadata": {},
     "output_type": "execute_result"
    }
   ],
   "source": [
    "# Reverse of a string\n",
    "s1=\"python\"\n",
    "s1[-1::-1]\n",
    "s1[-1:-3:-1]#Access last two characters in reverse order\n",
    "\n",
    "#Reverse the middle two characters in an even length string\n",
    "\n",
    "#s1[len(s1)//2:len(s1):len(s1)//2]"
   ]
  },
  {
   "cell_type": "markdown",
   "metadata": {},
   "source": [
    " ### Accessing alternate characters in string"
   ]
  },
  {
   "cell_type": "code",
   "execution_count": 14,
   "metadata": {},
   "outputs": [
    {
     "data": {
      "text/plain": [
       "'nhy'"
      ]
     },
     "execution_count": 14,
     "metadata": {},
     "output_type": "execute_result"
    }
   ],
   "source": [
    "s=\"Python\"\n",
    "s[::2]\n",
    "s[::-2]"
   ]
  },
  {
   "cell_type": "code",
   "execution_count": null,
   "metadata": {},
   "outputs": [],
   "source": []
  },
  {
   "cell_type": "code",
   "execution_count": null,
   "metadata": {},
   "outputs": [],
   "source": []
  },
  {
   "cell_type": "markdown",
   "metadata": {},
   "source": [
    "### Functions"
   ]
  },
  {
   "cell_type": "code",
   "execution_count": null,
   "metadata": {},
   "outputs": [],
   "source": []
  },
  {
   "cell_type": "code",
   "execution_count": 19,
   "metadata": {},
   "outputs": [
    {
     "data": {
      "text/plain": [
       "'nohtyp'"
      ]
     },
     "execution_count": 19,
     "metadata": {},
     "output_type": "execute_result"
    }
   ],
   "source": [
    "#function to reverse a string\n",
    "def reverseString(s):\n",
    "    return s[::-1]\n",
    "reverseString(\"python\")\n"
   ]
  },
  {
   "cell_type": "code",
   "execution_count": 20,
   "metadata": {},
   "outputs": [
    {
     "data": {
      "text/plain": [
       "True"
      ]
     },
     "execution_count": 20,
     "metadata": {},
     "output_type": "execute_result"
    }
   ],
   "source": [
    "# Function to check if a string is a Palindrome\n",
    "def palindrome(s):\n",
    "    if s==s[::-1]:\n",
    "        return True\n",
    "    else:\n",
    "        return False\n",
    "palindrome(\"madam\")"
   ]
  },
  {
   "cell_type": "code",
   "execution_count": null,
   "metadata": {},
   "outputs": [],
   "source": []
  },
  {
   "cell_type": "code",
   "execution_count": 84,
   "metadata": {},
   "outputs": [
    {
     "data": {
      "text/plain": [
       "True"
      ]
     },
     "execution_count": 84,
     "metadata": {},
     "output_type": "execute_result"
    }
   ],
   "source": [
    "# Function to check given year is leap year\n",
    "def isleapyear(year):\n",
    "    if year%400==0 or (year%4==0 and year%100!=0):\n",
    "        return True\n",
    "    else:\n",
    "        return False\n",
    "isleapyear(2020)"
   ]
  },
  {
   "cell_type": "code",
   "execution_count": 34,
   "metadata": {},
   "outputs": [
    {
     "data": {
      "text/plain": [
       "3"
      ]
     },
     "execution_count": 34,
     "metadata": {},
     "output_type": "execute_result"
    }
   ],
   "source": [
    "# count the number of digits in functions\n",
    "def countDigits(n):\n",
    "    return len(str(n))\n",
    "countDigits(123)\n",
    "    "
   ]
  },
  {
   "cell_type": "code",
   "execution_count": 41,
   "metadata": {},
   "outputs": [
    {
     "data": {
      "text/plain": [
       "12"
      ]
     },
     "execution_count": 41,
     "metadata": {},
     "output_type": "execute_result"
    }
   ],
   "source": [
    "#Function to identify the greatest of 4 numbers\n",
    "def greatest(a,b,c,d):\n",
    "    if a>b and a>c:\n",
    "        return a\n",
    "    elif b>c and b>d:\n",
    "        return b\n",
    "    elif c>d:\n",
    "        return c\n",
    "    else:\n",
    "        return d\n",
    "greatest(12,1,5,-1)\n"
   ]
  },
  {
   "cell_type": "code",
   "execution_count": null,
   "metadata": {},
   "outputs": [],
   "source": []
  },
  {
   "cell_type": "markdown",
   "metadata": {},
   "source": [
    "### Iteration\n",
    "- for\n",
    "- while"
   ]
  },
  {
   "cell_type": "code",
   "execution_count": 47,
   "metadata": {},
   "outputs": [
    {
     "name": "stdout",
     "output_type": "stream",
     "text": [
      "1 2 3 4 5 "
     ]
    }
   ],
   "source": [
    "# Function to print n natural numbers\n",
    "\n",
    "def printNNaturalNumbers(n):\n",
    "    for counter in range(1,n+1):\n",
    "        print(counter, end=\" \")\n",
    "printNNaturalNumbers(5)"
   ]
  },
  {
   "cell_type": "code",
   "execution_count": null,
   "metadata": {},
   "outputs": [],
   "source": []
  },
  {
   "cell_type": "code",
   "execution_count": 6,
   "metadata": {},
   "outputs": [
    {
     "name": "stdout",
     "output_type": "stream",
     "text": [
      "1 2 3 4 5 6 7 8 9 "
     ]
    }
   ],
   "source": [
    "# Function to print N Natural number using While loop\n",
    "def nNaturalNumbers(n):\n",
    "    counter=1\n",
    "    while counter<=n:\n",
    "        print(counter,end=\" \")\n",
    "        counter=counter+1\n",
    "    return\n",
    "nNaturalNumbers(9)"
   ]
  },
  {
   "cell_type": "code",
   "execution_count": null,
   "metadata": {},
   "outputs": [],
   "source": []
  },
  {
   "cell_type": "code",
   "execution_count": 52,
   "metadata": {},
   "outputs": [
    {
     "name": "stdout",
     "output_type": "stream",
     "text": [
      "6 12 18 24 30 36 42 48 54 60 66 72 78 84 90 96 "
     ]
    }
   ],
   "source": [
    "#Function to print all numbers disible by 6 and not factor of 100 in a given range(lb,ub)inclusive\n",
    "\n",
    "def DivFact(a,b):\n",
    "    while a<=b:\n",
    "        if a%6==0 and a%100!=0:\n",
    "            print(a,end=\" \")\n",
    "        a=a+1\n",
    "    return \n",
    "DivFact(1,100)"
   ]
  },
  {
   "cell_type": "code",
   "execution_count": null,
   "metadata": {},
   "outputs": [],
   "source": [
    "def DivFact(a,b):\n",
    "    "
   ]
  },
  {
   "cell_type": "code",
   "execution_count": 63,
   "metadata": {},
   "outputs": [
    {
     "data": {
      "text/plain": [
       "8.0"
      ]
     },
     "execution_count": 63,
     "metadata": {},
     "output_type": "execute_result"
    }
   ],
   "source": [
    "#function to find the average of cubes of all even numbers in a given rane(lb,ub) inlusive\n",
    "def AvgEvenNum(a,b):\n",
    "    sum=0\n",
    "    count=0\n",
    "    for i in range(a,b+1):\n",
    "        if i%2==0:\n",
    "            sum+=i**3\n",
    "            count+=1\n",
    "    return sum/count\n",
    "AvgEvenNum(1,3)\n",
    "        "
   ]
  },
  {
   "cell_type": "code",
   "execution_count": null,
   "metadata": {},
   "outputs": [],
   "source": [
    "# check if a given number is prime\n",
    "#cal the factorial of a given number\n",
    "#function to generate the list of factors for a given number\n",
    "#cal the avg of first N prime Numbers\n",
    "#function to find the average of cubes of all even numbers in a given rane(lb,ub) inlusive\n",
    "#Function to print all numbers disible by 6 and not factor of 100 in a given range(lb,ub)inclusive\n",
    "#generate all perfect numbers in a given range\n",
    "#Function to print all numbers disible by 6 and not factor of 100 in a given range(lb,ub)inclusive"
   ]
  },
  {
   "cell_type": "code",
   "execution_count": 60,
   "metadata": {},
   "outputs": [
    {
     "name": "stdout",
     "output_type": "stream",
     "text": [
      "1 2 3 "
     ]
    },
    {
     "data": {
      "text/plain": [
       "6"
      ]
     },
     "execution_count": 60,
     "metadata": {},
     "output_type": "execute_result"
    }
   ],
   "source": [
    "#factors\n",
    "def factors(n):\n",
    "    for i in range(1,n//2+1):\n",
    "        if n%i==0:\n",
    "            print(i,end=\" \")\n",
    "    return n\n",
    "factors(6)\n",
    "    "
   ]
  },
  {
   "cell_type": "code",
   "execution_count": 56,
   "metadata": {},
   "outputs": [
    {
     "data": {
      "text/plain": [
       "3628800"
      ]
     },
     "execution_count": 56,
     "metadata": {},
     "output_type": "execute_result"
    }
   ],
   "source": [
    "#factorial\n",
    "def factorial(n):\n",
    "    fact=1\n",
    "    for i in range(2,n+1):\n",
    "        fact*=i\n",
    "    return fact\n",
    "factorial(10)"
   ]
  },
  {
   "cell_type": "code",
   "execution_count": 64,
   "metadata": {},
   "outputs": [
    {
     "data": {
      "text/plain": [
       "False"
      ]
     },
     "execution_count": 64,
     "metadata": {},
     "output_type": "execute_result"
    }
   ],
   "source": [
    "#prime\n",
    "def isPrime(n):\n",
    "    flag=True\n",
    "    for i in range(2,n//2+1):\n",
    "        if n%i==0:\n",
    "            flag=False\n",
    "            return flag\n",
    "    return flag\n",
    "isPrime(99)"
   ]
  },
  {
   "cell_type": "code",
   "execution_count": 71,
   "metadata": {},
   "outputs": [
    {
     "name": "stdout",
     "output_type": "stream",
     "text": [
      "2\n",
      "3\n",
      "4\n",
      "5\n",
      "7\n",
      "11\n",
      "13\n",
      "17\n",
      "19\n",
      "23\n"
     ]
    },
    {
     "data": {
      "text/plain": [
       "10.4"
      ]
     },
     "execution_count": 71,
     "metadata": {},
     "output_type": "execute_result"
    }
   ],
   "source": [
    "#cal the avg of first N prime Numbers\n",
    "def avgPrimes(n):\n",
    "    sum=0\n",
    "    primecount=0\n",
    "    seqcount=2\n",
    "    while(primecount<n):\n",
    "        if isPrime(seqcount):\n",
    "            primecount+=1\n",
    "            sum+=seqcount\n",
    "            print(seqcount)\n",
    "        seqcount+=1\n",
    "    return sum/n\n",
    "avgPrimes(10)"
   ]
  },
  {
   "cell_type": "code",
   "execution_count": 3,
   "metadata": {},
   "outputs": [
    {
     "ename": "NameError",
     "evalue": "name 'factorList' is not defined",
     "output_type": "error",
     "traceback": [
      "\u001b[1;31m---------------------------------------------------------------------------\u001b[0m",
      "\u001b[1;31mNameError\u001b[0m                                 Traceback (most recent call last)",
      "\u001b[1;32m<ipython-input-3-36ef87492f27>\u001b[0m in \u001b[0;36m<module>\u001b[1;34m\u001b[0m\n\u001b[0;32m      9\u001b[0m             \u001b[0mprint\u001b[0m\u001b[1;33m(\u001b[0m\u001b[0mi\u001b[0m\u001b[1;33m,\u001b[0m\u001b[0mend\u001b[0m\u001b[1;33m=\u001b[0m\u001b[1;34m\" \"\u001b[0m\u001b[1;33m)\u001b[0m\u001b[1;33m\u001b[0m\u001b[1;33m\u001b[0m\u001b[0m\n\u001b[0;32m     10\u001b[0m     \u001b[1;32mreturn\u001b[0m\u001b[1;33m\u001b[0m\u001b[1;33m\u001b[0m\u001b[0m\n\u001b[1;32m---> 11\u001b[1;33m \u001b[0mgenerateperfect\u001b[0m\u001b[1;33m(\u001b[0m\u001b[1;36m1\u001b[0m\u001b[1;33m,\u001b[0m\u001b[1;36m1000\u001b[0m\u001b[1;33m)\u001b[0m\u001b[1;33m\u001b[0m\u001b[1;33m\u001b[0m\u001b[0m\n\u001b[0m",
      "\u001b[1;32m<ipython-input-3-36ef87492f27>\u001b[0m in \u001b[0;36mgenerateperfect\u001b[1;34m(lb, ub)\u001b[0m\n\u001b[0;32m      6\u001b[0m \u001b[1;32mdef\u001b[0m \u001b[0mgenerateperfect\u001b[0m\u001b[1;33m(\u001b[0m\u001b[0mlb\u001b[0m\u001b[1;33m,\u001b[0m\u001b[0mub\u001b[0m\u001b[1;33m)\u001b[0m\u001b[1;33m:\u001b[0m\u001b[1;33m\u001b[0m\u001b[1;33m\u001b[0m\u001b[0m\n\u001b[0;32m      7\u001b[0m     \u001b[1;32mfor\u001b[0m \u001b[0mi\u001b[0m \u001b[1;32min\u001b[0m \u001b[0mrange\u001b[0m\u001b[1;33m(\u001b[0m\u001b[0mlb\u001b[0m\u001b[1;33m,\u001b[0m\u001b[0mub\u001b[0m\u001b[1;33m+\u001b[0m\u001b[1;36m1\u001b[0m\u001b[1;33m)\u001b[0m\u001b[1;33m:\u001b[0m\u001b[1;33m\u001b[0m\u001b[1;33m\u001b[0m\u001b[0m\n\u001b[1;32m----> 8\u001b[1;33m         \u001b[1;32mif\u001b[0m \u001b[0misPerfect\u001b[0m\u001b[1;33m(\u001b[0m\u001b[0mi\u001b[0m\u001b[1;33m)\u001b[0m\u001b[1;33m:\u001b[0m\u001b[1;33m\u001b[0m\u001b[1;33m\u001b[0m\u001b[0m\n\u001b[0m\u001b[0;32m      9\u001b[0m             \u001b[0mprint\u001b[0m\u001b[1;33m(\u001b[0m\u001b[0mi\u001b[0m\u001b[1;33m,\u001b[0m\u001b[0mend\u001b[0m\u001b[1;33m=\u001b[0m\u001b[1;34m\" \"\u001b[0m\u001b[1;33m)\u001b[0m\u001b[1;33m\u001b[0m\u001b[1;33m\u001b[0m\u001b[0m\n\u001b[0;32m     10\u001b[0m     \u001b[1;32mreturn\u001b[0m\u001b[1;33m\u001b[0m\u001b[1;33m\u001b[0m\u001b[0m\n",
      "\u001b[1;32m<ipython-input-3-36ef87492f27>\u001b[0m in \u001b[0;36misPerfect\u001b[1;34m(n)\u001b[0m\n\u001b[0;32m      1\u001b[0m \u001b[1;32mdef\u001b[0m \u001b[0misPerfect\u001b[0m\u001b[1;33m(\u001b[0m\u001b[0mn\u001b[0m\u001b[1;33m)\u001b[0m\u001b[1;33m:\u001b[0m\u001b[1;33m\u001b[0m\u001b[1;33m\u001b[0m\u001b[0m\n\u001b[1;32m----> 2\u001b[1;33m     \u001b[1;32mif\u001b[0m \u001b[0mfactorList\u001b[0m\u001b[1;33m(\u001b[0m\u001b[0mn\u001b[0m\u001b[1;33m)\u001b[0m\u001b[1;33m==\u001b[0m\u001b[0mn\u001b[0m\u001b[1;33m:\u001b[0m\u001b[1;33m\u001b[0m\u001b[1;33m\u001b[0m\u001b[0m\n\u001b[0m\u001b[0;32m      3\u001b[0m         \u001b[1;32mreturn\u001b[0m \u001b[1;32mTrue\u001b[0m\u001b[1;33m\u001b[0m\u001b[1;33m\u001b[0m\u001b[0m\n\u001b[0;32m      4\u001b[0m     \u001b[1;32mreturn\u001b[0m \u001b[1;32mFalse\u001b[0m\u001b[1;33m\u001b[0m\u001b[1;33m\u001b[0m\u001b[0m\n\u001b[0;32m      5\u001b[0m \u001b[1;33m\u001b[0m\u001b[0m\n",
      "\u001b[1;31mNameError\u001b[0m: name 'factorList' is not defined"
     ]
    }
   ],
   "source": [
    "def isPerfect(n):\n",
    "    if factorList(n)==n:\n",
    "        return True\n",
    "    return False\n",
    "\n",
    "def generateperfect(lb,ub):\n",
    "    for i in range(lb,ub+1):\n",
    "        if isPerfect(i):\n",
    "            print(i,end=\" \")\n",
    "    return\n",
    "generateperfect(1,1000)\n"
   ]
  },
  {
   "cell_type": "code",
   "execution_count": null,
   "metadata": {},
   "outputs": [],
   "source": []
  },
  {
   "cell_type": "markdown",
   "metadata": {},
   "source": [
    "### Advanced Problems"
   ]
  },
  {
   "cell_type": "markdown",
   "metadata": {},
   "source": [
    "#Function to calculate average of all factorials in a given range\n",
    "#Function to generate Multiplication table for a number in a given rangenge\n",
    "#Function to generate N odd armstrong number\n",
    "\n",
    "    10 in the range(100,100)inclusive\n",
    "    10*100=1000\n",
    "    10*101=1010\n",
    "    10*102=1020"
   ]
  },
  {
   "cell_type": "code",
   "execution_count": null,
   "metadata": {},
   "outputs": [],
   "source": []
  },
  {
   "cell_type": "code",
   "execution_count": 2,
   "metadata": {},
   "outputs": [
    {
     "name": "stdout",
     "output_type": "stream",
     "text": [
      "10 9 8 7 6 5 4 3 2 1 "
     ]
    }
   ],
   "source": [
    "#Function to print revese of a given range in the same line\n",
    "def reverserange(ub,lb):\n",
    "    for i in range(ub,lb-1,-1):\n",
    "        print(i,end=\" \")\n",
    "    return\n",
    "reverserange(10,1)"
   ]
  },
  {
   "cell_type": "code",
   "execution_count": 13,
   "metadata": {},
   "outputs": [
    {
     "name": "stdout",
     "output_type": "stream",
     "text": [
      "20 22 24 26 28 30 32 34 36 38 40 42 44 46 48 50 "
     ]
    }
   ],
   "source": [
    "#[500,550]#inclusive set 501,502,503.....550 if alternate values 500,502,504...550\n",
    "#(500,550)#exclusive set 501,501,503.....549 if alternate values 501,503,505...549\n",
    "#range(500,550)#start value is inclusive and end value is exclusive 500,501,502......549\n",
    "\n",
    "\n",
    "\n",
    "#Print alternate values in a function\n",
    "def alternatevalues(lb,ub):\n",
    "    for value in range(lb,ub+1,2):# 2 represents increment for alternate value\n",
    "        print(value,end=\" \")\n",
    "    return\n",
    "alternatevalues(20,50)\n",
    "    \n"
   ]
  },
  {
   "cell_type": "code",
   "execution_count": null,
   "metadata": {},
   "outputs": [],
   "source": []
  },
  {
   "cell_type": "code",
   "execution_count": 16,
   "metadata": {},
   "outputs": [
    {
     "name": "stdout",
     "output_type": "stream",
     "text": [
      "19 17 15 13 11 "
     ]
    }
   ],
   "source": [
    "#Odd numbers in reverse order in a range\n",
    "def oddNum(ub,lb):\n",
    "    for i in range(ub,lb-1,-1):\n",
    "        if i%2!=0:\n",
    "            print(i,end=\" \")\n",
    "    return\n",
    "oddNum(20,10)"
   ]
  },
  {
   "cell_type": "code",
   "execution_count": null,
   "metadata": {},
   "outputs": [],
   "source": []
  },
  {
   "cell_type": "code",
   "execution_count": 22,
   "metadata": {},
   "outputs": [
    {
     "data": {
      "text/plain": [
       "55"
      ]
     },
     "execution_count": 22,
     "metadata": {},
     "output_type": "execute_result"
    }
   ],
   "source": [
    "#Function to cal the sum of numbers in a range\n",
    "def sum(lb,ub):\n",
    "    sum=0\n",
    "    for i in range(lb,ub+1):\n",
    "        sum+=i\n",
    "    return sum #if it is calculation then we use \"return\" not use \"print\"\n",
    "sum(1,10)\n",
    "        "
   ]
  },
  {
   "cell_type": "code",
   "execution_count": null,
   "metadata": {},
   "outputs": [],
   "source": []
  },
  {
   "cell_type": "code",
   "execution_count": 27,
   "metadata": {},
   "outputs": [
    {
     "data": {
      "text/plain": [
       "5.5"
      ]
     },
     "execution_count": 27,
     "metadata": {},
     "output_type": "execute_result"
    }
   ],
   "source": [
    "#Function to calculate the average of a given range\n",
    "def average(lb,ub):\n",
    "    sum=0\n",
    "    count=0\n",
    "    for i in range(lb,ub+1):\n",
    "        sum=sum+i\n",
    "        count=count+1\n",
    "    return sum/count\n",
    "average(1,10)\n",
    "        \n",
    "        "
   ]
  },
  {
   "cell_type": "code",
   "execution_count": null,
   "metadata": {},
   "outputs": [],
   "source": []
  },
  {
   "cell_type": "code",
   "execution_count": 29,
   "metadata": {},
   "outputs": [
    {
     "data": {
      "text/plain": [
       "3.0"
      ]
     },
     "execution_count": 29,
     "metadata": {},
     "output_type": "execute_result"
    }
   ],
   "source": [
    "#Function to calculate average of all factorials in a given range\n",
    "def avgFactorial(lb,ub):\n",
    "    factorial=1\n",
    "    sum=0\n",
    "    count=0\n",
    "    for i in range(lb,ub+1):\n",
    "        factorial=factorial*i\n",
    "        sum=sum+factorial\n",
    "        count=count+1\n",
    "    return sum/count\n",
    "avgFactorial(1,3)\n",
    "\n",
    "        \n",
    "    "
   ]
  },
  {
   "cell_type": "code",
   "execution_count": 34,
   "metadata": {},
   "outputs": [
    {
     "name": "stdout",
     "output_type": "stream",
     "text": [
      "10 x 100 = 1000\n",
      "10 x 101 = 1010\n",
      "10 x 102 = 1020\n",
      "10 x 103 = 1030\n",
      "10 x 104 = 1040\n",
      "10 x 105 = 1050\n",
      "10 x 106 = 1060\n",
      "10 x 107 = 1070\n",
      "10 x 108 = 1080\n",
      "10 x 109 = 1090\n",
      "10 x 110 = 1100\n"
     ]
    }
   ],
   "source": [
    "#Function to generate Multiplication table for a number in a given rangenge\n",
    "def MulTable(a,b):\n",
    "    n=10\n",
    "    for i in range(a,b+1):\n",
    "        print(n,'x',a,'=',n*i)\n",
    "        a=a+1\n",
    "MulTable(100,110)   \n",
    "    "
   ]
  },
  {
   "cell_type": "code",
   "execution_count": 35,
   "metadata": {},
   "outputs": [
    {
     "name": "stdout",
     "output_type": "stream",
     "text": [
      "2000 2004 2008 2012 2016 2020 "
     ]
    }
   ],
   "source": [
    "#generate leap years in a given time period\n",
    "def generateleapyears(sy,ey):\n",
    "    for year in range(sy,ey+1):\n",
    "        if year%400==0 or (year%4==0 and year%100!=0):\n",
    "            print(year,end=\" \")\n",
    "            year=year+1\n",
    "    return\n",
    "generateleapyears(2000,2020)"
   ]
  },
  {
   "cell_type": "code",
   "execution_count": null,
   "metadata": {},
   "outputs": [],
   "source": []
  },
  {
   "cell_type": "code",
   "execution_count": 73,
   "metadata": {},
   "outputs": [
    {
     "data": {
      "text/plain": [
       "7671"
      ]
     },
     "execution_count": 73,
     "metadata": {},
     "output_type": "execute_result"
    }
   ],
   "source": [
    "#calculate number of days in a time period using leap year logic\n",
    "def NumofDays(startyear,endyear):\n",
    "    sum=0\n",
    "    for i in range(startyear,endyeaar+1):\n",
    "        if i%400==0 or (i%4==0 and i%100!=0):\n",
    "            sum=sum+366\n",
    "        else:\n",
    "            sum=sum+365\n",
    "    return sum\n",
    "# num of days in middle years of 1999 and 2020\n",
    "NumofDays(2000,2020)\n",
    "        \n",
    "        \n",
    "        "
   ]
  },
  {
   "cell_type": "code",
   "execution_count": null,
   "metadata": {},
   "outputs": [],
   "source": []
  },
  {
   "cell_type": "code",
   "execution_count": null,
   "metadata": {},
   "outputs": [],
   "source": []
  },
  {
   "cell_type": "code",
   "execution_count": 85,
   "metadata": {},
   "outputs": [
    {
     "data": {
      "text/plain": [
       "31"
      ]
     },
     "execution_count": 85,
     "metadata": {},
     "output_type": "execute_result"
    }
   ],
   "source": [
    "\n",
    "\n",
    "    \n",
    "    \n",
    "    \n",
    "    \n",
    "    \n",
    "    \n",
    "    \n",
    "    \n",
    "#cal num of days in 11,2019  \n",
    "    \n",
    "def numOfDaysMonth(month,year):\n",
    "    if month==2:\n",
    "        if isleapyear(year):\n",
    "            return 29\n",
    "        return 28\n",
    "    elif (month<=7 and month%2!=0) or (month>=8 and month%2==0):\n",
    "        return 31\n",
    "    else:\n",
    "        return 30\n",
    "numOfDaysMonth(12,2019)\n",
    "    "
   ]
  },
  {
   "cell_type": "code",
   "execution_count": null,
   "metadata": {},
   "outputs": [],
   "source": []
  },
  {
   "cell_type": "code",
   "execution_count": null,
   "metadata": {},
   "outputs": [],
   "source": []
  },
  {
   "cell_type": "code",
   "execution_count": 54,
   "metadata": {},
   "outputs": [
    {
     "name": "stdout",
     "output_type": "stream",
     "text": [
      "n is armstrong\n"
     ]
    }
   ],
   "source": [
    "#Function to check armstrong or not\n",
    "def isArmstrong(n):\n",
    "    digit=0\n",
    "    sum=0\n",
    "    for i in range(n):\n",
    "        digit=n%10\n",
    "        sum=sum+digit**3\n",
    "        sum=sum+1\n",
    "    if n==sum:\n",
    "        print(\"n is armstrong\")\n",
    "    else:\n",
    "        print(\"n is armstrong\")\n",
    "isArmstrong(370)\n",
    "        "
   ]
  },
  {
   "cell_type": "code",
   "execution_count": null,
   "metadata": {},
   "outputs": [],
   "source": []
  },
  {
   "cell_type": "code",
   "execution_count": 36,
   "metadata": {},
   "outputs": [],
   "source": [
    "#Function to generate N odd armstrong number\n",
    "def OddArmstrong(n):\n",
    "    digit=0\n",
    "    sum=0\n",
    "    for i in range(1,n+1):\n",
    "        digit=n%10\n",
    "        sum=sum+digit**3\n",
    "        sum=sum+1\n",
    "    if n==sum:\n",
    "        if n%2!=0:\n",
    "            return n\n",
    "        else:\n",
    "            return\n",
    "OddArmstrong(10)\n",
    "        "
   ]
  },
  {
   "cell_type": "code",
   "execution_count": null,
   "metadata": {},
   "outputs": [],
   "source": []
  },
  {
   "cell_type": "code",
   "execution_count": null,
   "metadata": {},
   "outputs": [],
   "source": []
  },
  {
   "cell_type": "code",
   "execution_count": 88,
   "metadata": {},
   "outputs": [
    {
     "ename": "SyntaxError",
     "evalue": "invalid syntax (<ipython-input-88-6f8c89e8002d>, line 42)",
     "output_type": "error",
     "traceback": [
      "\u001b[1;36m  File \u001b[1;32m\"<ipython-input-88-6f8c89e8002d>\"\u001b[1;36m, line \u001b[1;32m42\u001b[0m\n\u001b[1;33m    def numberOfHours(6,1975,3,1999)\u001b[0m\n\u001b[1;37m                      ^\u001b[0m\n\u001b[1;31mSyntaxError\u001b[0m\u001b[1;31m:\u001b[0m invalid syntax\n"
     ]
    }
   ],
   "source": [
    "#calculate number of hours for a given period # (5,1975,3,1999)\n",
    "def numOfDaysMonth(month,year):\n",
    "    if month==2:\n",
    "        if isleapyear(year):\n",
    "            return 29\n",
    "        return 28\n",
    "    elif (month<=7 and month%2!=0) or (month>=8 and month%2==0):\n",
    "        return 31\n",
    "    else:\n",
    "        return 30 \n",
    "    \n",
    "#numOfDaysMonth(1,2019)\n",
    "    \n",
    "def daysInStartYear(startmonth,startyear):\n",
    "    days=0\n",
    "    for month in range(startmonth,13):\n",
    "        days+=numOfDaysMonth(startmonth,startyear)\n",
    "    return days\n",
    "#daysInStartYear(6,2019)\n",
    "\n",
    "\n",
    "\n",
    "def daysInEndYear(endmonth,endyear):\n",
    "    day=0\n",
    "    for month in range(1,endmonth+1):\n",
    "        days+=numOfDaysMonth(endmonth,endtyear)\n",
    "    return days\n",
    "\n",
    "#daysInEndYear(2,2020)\n",
    "\n",
    "\n",
    "def numberOfHours(startmonth,startyear,endmonth,endyear):\n",
    "    day=0\n",
    "    days+=daysInStartYear(startmonth,startyear)\n",
    "    days+=numOfDaysMonth(endmonth,endyear)\n",
    "    if endyear-startyear==2:\n",
    "        days+=NumofDays(startyear+1,startyear+1)\n",
    "    elif endyear-startyear>2:\n",
    "        days+=NumofDays(startyear+1,endyear-1)\n",
    "    return 24*days\n",
    "\n",
    "def numberOfHours(6,1975,3,1999)\n",
    "        \n",
    "    "
   ]
  },
  {
   "cell_type": "code",
   "execution_count": null,
   "metadata": {},
   "outputs": [],
   "source": []
  },
  {
   "cell_type": "code",
   "execution_count": null,
   "metadata": {},
   "outputs": [],
   "source": []
  }
 ],
 "metadata": {
  "kernelspec": {
   "display_name": "Python 3",
   "language": "python",
   "name": "python3"
  },
  "language_info": {
   "codemirror_mode": {
    "name": "ipython",
    "version": 3
   },
   "file_extension": ".py",
   "mimetype": "text/x-python",
   "name": "python",
   "nbconvert_exporter": "python",
   "pygments_lexer": "ipython3",
   "version": "3.7.3"
  }
 },
 "nbformat": 4,
 "nbformat_minor": 2
}
