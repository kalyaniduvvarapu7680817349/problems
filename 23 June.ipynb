{
 "cells": [
  {
   "cell_type": "code",
   "execution_count": 3,
   "metadata": {},
   "outputs": [
    {
     "data": {
      "text/plain": [
       "[1, 2, 3]"
      ]
     },
     "execution_count": 3,
     "metadata": {},
     "output_type": "execute_result"
    }
   ],
   "source": [
    "# Function to get unique elements in a list\n",
    "\n",
    "#[1,2,3,3.2.1] -> [1,2,3]\n",
    "\n",
    "# Create an empty unique list []\n",
    "\n",
    "\n",
    "def uniquedata(li):\n",
    "    # create an empty unique list\n",
    "    uniquelist=[]\n",
    "# For every element in the main list,\n",
    "    #check if it exists in the uniquelist\n",
    "    #if it is does not exist,add it to unique list\n",
    "    #else if it is already exists, move on to next element\n",
    "    \n",
    "    for element in li:\n",
    "        if element not in uniquelist:\n",
    "            uniquelist.append(element)\n",
    "    return uniquelist\n",
    "li=[1,2,3,3,2,1]\n",
    "uniquedata(li)"
   ]
  },
  {
   "cell_type": "code",
   "execution_count": null,
   "metadata": {},
   "outputs": [],
   "source": []
  },
  {
   "cell_type": "code",
   "execution_count": null,
   "metadata": {},
   "outputs": [],
   "source": [
    "# Function to count unique words\n",
    "\n",
    "def countuniqueWords(filepath):"
   ]
  },
  {
   "cell_type": "code",
   "execution_count": 8,
   "metadata": {},
   "outputs": [
    {
     "name": "stdout",
     "output_type": "stream",
     "text": [
      "{'data': 3, 'line': 3, '1': 1, '2': 1, '3': 1, 'RGUKT': 1, 'NUZVID': 2, 'AP': 1, 'IIIT': 1}\n"
     ]
    }
   ],
   "source": [
    "# Function to print frequency count of a unique words in a file\n",
    "\n",
    "# Data Line 1\n",
    "# Data Line 2\n",
    "# Data Line 3\n",
    "#O/P: \n",
    "#Data:3\n",
    "#Line:3\n",
    "#in:3\n",
    "#1:1\n",
    "#2:1\n",
    "#3:1\n",
    "def FreqDistributionOfWords(file):\n",
    "    with open(file, 'r') as f:\n",
    "        file=f.read().split()\n",
    "        count={}\n",
    "        for word in file:\n",
    "            if word in count:\n",
    "                count[word]+=1\n",
    "            else:\n",
    "                count[word]=1\n",
    "        print(count)\n",
    "#str=['Hi','RGUKT', 'Hi',]\n",
    "file=('book.txt')\n",
    "FreqDistributionOfWords(file)\n",
    "\n"
   ]
  },
  {
   "cell_type": "code",
   "execution_count": 37,
   "metadata": {},
   "outputs": [
    {
     "name": "stdout",
     "output_type": "stream",
     "text": [
      "Enter word to be searched:RGU\n",
      "Occurrences of the word:\n",
      "1\n"
     ]
    }
   ],
   "source": [
    "# Occurances of the words\n",
    "\n",
    "word=input(\"Enter word to be searched:\")\n",
    "k = 0\n",
    " \n",
    "with open('book.txt', 'r') as f:\n",
    "    k=0\n",
    "    for line in f:\n",
    "        words = line.split()\n",
    "        for i in words:\n",
    "            if(i==word):\n",
    "                k=k+1\n",
    "print(\"Occurrences of the word:\")\n",
    "print(k)"
   ]
  },
  {
   "cell_type": "code",
   "execution_count": null,
   "metadata": {},
   "outputs": [],
   "source": [
    "def wordsFromFile(filepath):\n",
    "    pattern='[\\n]'\n",
    "    filedata=readfile(filepath)\n",
    "    allwordsList=re.split(pattern,filedata)\n",
    "    \n",
    "    return allwordsList\n",
    "    \n",
    "\n",
    "#wordsFromFile(filepath)\n",
    "\n",
    "\n",
    "def FreqDistributionOfWords(filepath):\n",
    "    allwords=wordsFromFile(filepath)\n",
    "    uniquewords=uniqueDta(filepath)\n",
    "    for word in uniquewords:\n",
    "        count=allwords.count(word)\n",
    "        print(word,':',count)\n",
    "    return\n",
    "FreqDistributionOfWords(filepath)"
   ]
  },
  {
   "cell_type": "code",
   "execution_count": null,
   "metadata": {},
   "outputs": [],
   "source": []
  }
 ],
 "metadata": {
  "kernelspec": {
   "display_name": "Python 3",
   "language": "python",
   "name": "python3"
  },
  "language_info": {
   "codemirror_mode": {
    "name": "ipython",
    "version": 3
   },
   "file_extension": ".py",
   "mimetype": "text/x-python",
   "name": "python",
   "nbconvert_exporter": "python",
   "pygments_lexer": "ipython3",
   "version": "3.7.3"
  }
 },
 "nbformat": 4,
 "nbformat_minor": 2
}
