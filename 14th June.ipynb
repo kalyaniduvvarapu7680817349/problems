{
 "cells": [
  {
   "cell_type": "markdown",
   "metadata": {},
   "source": [
    "### Day Objectives\n",
    "- Python Data Structures\n",
    "   - Lists\n",
    "   - Tuples\n",
    "   - Dictionaries\n",
    "- Basic Problem Set on Data Structures"
   ]
  },
  {
   "cell_type": "code",
   "execution_count": null,
   "metadata": {},
   "outputs": [],
   "source": []
  },
  {
   "cell_type": "markdown",
   "metadata": {},
   "source": [
    "### Python Data Structures\n",
    "\n",
    "\n",
    "### Lists"
   ]
  },
  {
   "cell_type": "code",
   "execution_count": 34,
   "metadata": {},
   "outputs": [
    {
     "data": {
      "text/plain": [
       "345.0"
      ]
     },
     "execution_count": 34,
     "metadata": {},
     "output_type": "execute_result"
    }
   ],
   "source": [
    "li=[123,456,789]\n",
    "\n",
    "li #Access the entire list\n",
    "\n",
    "li[1] # Access an element with index in a list\n",
    "\n",
    "li[1:] #Access all elements from second element to last elment\n",
    "\n",
    "li[::-1]\n",
    "\n",
    "li=li[::-1]\n",
    "li\n",
    "li[::2] #Accessing even index elements\n",
    "\n",
    "li[1:2]\n",
    "\n",
    "\n",
    "#Lists can be accesse,manipulated in two ways\n",
    "    # Direct referencing -[index]\n",
    "    #indirect referencing -through functions\n",
    "    \n",
    "    \n",
    "li.append(345)#Adding an element to end of the list\n",
    "\n",
    "li.insert(1,234)#Adding an element at a particular index\n",
    "\n",
    "li.sort()#Sort element in ascending order\n",
    "\n",
    "li.pop()#Remove the last element in a list\n",
    "\n",
    "li.pop(1) #Remove an elemnt at a particular index\n",
    "\n",
    "li2=[234,456,789]\n",
    "\n",
    "li.extend(li2)#Merge list 2 into list 1\n",
    "\n",
    "sum(li)# sum of all elements\n",
    "max(li)#Maximum elements in list\n",
    "len(li)#Number of elements in a list\n",
    "\n",
    "sum(li)/len(li) #Average of list elements\n",
    "\n",
    "\n",
    "sum(li[::2])/len(li[::2]) #averae of alternate elements\n",
    "\n",
    "sum(li[1::2])/len(li[1::2])"
   ]
  },
  {
   "cell_type": "code",
   "execution_count": 47,
   "metadata": {},
   "outputs": [
    {
     "data": {
      "text/plain": [
       "789"
      ]
     },
     "execution_count": 47,
     "metadata": {},
     "output_type": "execute_result"
    }
   ],
   "source": [
    "#Function to identify the second largest element in a list\n",
    "\n",
    "def secondLargest(li):\n",
    "    li.sort()\n",
    "    return li[-2]\n",
    "secondLargest([123,789,345,3456])"
   ]
  },
  {
   "cell_type": "code",
   "execution_count": null,
   "metadata": {},
   "outputs": [],
   "source": []
  },
  {
   "cell_type": "code",
   "execution_count": 44,
   "metadata": {},
   "outputs": [
    {
     "data": {
      "text/plain": [
       "321"
      ]
     },
     "execution_count": 44,
     "metadata": {},
     "output_type": "execute_result"
    }
   ],
   "source": [
    "#Function that returns the nth largest\n",
    "\n",
    "def genericLargest(li,n):\n",
    "    li.sort()\n",
    "    return li[-n]\n",
    "genericLargest([123,234,321,765],2)"
   ]
  },
  {
   "cell_type": "code",
   "execution_count": null,
   "metadata": {},
   "outputs": [],
   "source": []
  },
  {
   "cell_type": "code",
   "execution_count": 74,
   "metadata": {},
   "outputs": [
    {
     "data": {
      "text/plain": [
       "-1"
      ]
     },
     "execution_count": 74,
     "metadata": {},
     "output_type": "execute_result"
    }
   ],
   "source": [
    "#Function to search for data in a list\n",
    "#Search for the key in the list and return the index of the key.Return -1\n",
    "\n",
    "def linearSearch(li,key):\n",
    "    for index in range(0,len(li)):\n",
    "        if li[index]==key:\n",
    "            return index+1\n",
    "    return -1\n",
    "\n",
    "#linearSearch(li,234)\n",
    "\n",
    "\n",
    "def linearSearch2(li,key):\n",
    "    for element in li:\n",
    "        if element==key:\n",
    "            return li.index(element)\n",
    "    return -1\n",
    "\n",
    "#linearSearch2(li,234)\n",
    "\n",
    "\n",
    "def linearSearch3(li,key):\n",
    "    if key in li:\n",
    "        return li.index(key)\n",
    "    return -1\n",
    "linearSearch3(li,204)\n",
    "    "
   ]
  },
  {
   "cell_type": "code",
   "execution_count": null,
   "metadata": {},
   "outputs": [],
   "source": []
  },
  {
   "cell_type": "code",
   "execution_count": 92,
   "metadata": {},
   "outputs": [
    {
     "data": {
      "text/plain": [
       "1"
      ]
     },
     "execution_count": 92,
     "metadata": {},
     "output_type": "execute_result"
    }
   ],
   "source": [
    "#Function to count the occurances of a character in a string\n",
    "#\"Python Programming\",m->2\n",
    "def countCharOccurances(s,c):\n",
    "    count=0\n",
    "    for ch in s:\n",
    "        if ch==c:\n",
    "            count+=1\n",
    "    return count\n",
    "\n",
    "def countCharOccurances2(s,c):\n",
    "    return s.count(c)\n",
    "    \n",
    "countCharOccurances2(\"Python Programming\",'Py')\n"
   ]
  },
  {
   "cell_type": "code",
   "execution_count": null,
   "metadata": {},
   "outputs": [],
   "source": []
  },
  {
   "cell_type": "code",
   "execution_count": null,
   "metadata": {},
   "outputs": [],
   "source": []
  },
  {
   "cell_type": "code",
   "execution_count": 1,
   "metadata": {},
   "outputs": [
    {
     "data": {
      "text/plain": [
       "['1', '2', '3', '4', '5', '6']"
      ]
     },
     "execution_count": 1,
     "metadata": {},
     "output_type": "execute_result"
    }
   ],
   "source": [
    "s=\"1 2 3 4 5 6\"\n",
    "li=s.split()      #converting elements into string\n",
    "li"
   ]
  },
  {
   "cell_type": "code",
   "execution_count": 2,
   "metadata": {},
   "outputs": [
    {
     "data": {
      "text/plain": [
       "[1, 2, 3, 4, 5, 6]"
      ]
     },
     "execution_count": 2,
     "metadata": {},
     "output_type": "execute_result"
    }
   ],
   "source": [
    "numberlist=[]\n",
    "for i in li:\n",
    "    numberlist.append(int(i))  #converting strings into numbers\n",
    "numberlist"
   ]
  },
  {
   "cell_type": "code",
   "execution_count": null,
   "metadata": {},
   "outputs": [],
   "source": []
  },
  {
   "cell_type": "markdown",
   "metadata": {},
   "source": [
    "### Assessment Problems"
   ]
  },
  {
   "cell_type": "code",
   "execution_count": null,
   "metadata": {},
   "outputs": [],
   "source": []
  },
  {
   "cell_type": "code",
   "execution_count": 1,
   "metadata": {},
   "outputs": [
    {
     "name": "stdout",
     "output_type": "stream",
     "text": [
      "3\n"
     ]
    },
    {
     "data": {
      "text/plain": [
       "14"
      ]
     },
     "execution_count": 1,
     "metadata": {},
     "output_type": "execute_result"
    }
   ],
   "source": [
    "n=int(input())\n",
    "def sumofsquareN(n):\n",
    "    sum=0\n",
    "    for i in range(1,n+1):\n",
    "        sum=sum+i**2\n",
    "    return sum\n",
    "sumofsquareN(n)"
   ]
  },
  {
   "cell_type": "code",
   "execution_count": null,
   "metadata": {},
   "outputs": [],
   "source": []
  },
  {
   "cell_type": "code",
   "execution_count": 4,
   "metadata": {},
   "outputs": [
    {
     "name": "stdout",
     "output_type": "stream",
     "text": [
      "4\n",
      "-1 4 5 2\n"
     ]
    },
    {
     "data": {
      "text/plain": [
       "1"
      ]
     },
     "execution_count": 4,
     "metadata": {},
     "output_type": "execute_result"
    }
   ],
   "source": [
    "n=int(input())\n",
    "s=input()\n",
    "s=s.split()\n",
    "li=[]\n",
    "for i in s:\n",
    "    li.append(abs(int(i)))\n",
    "min(li)\n"
   ]
  },
  {
   "cell_type": "code",
   "execution_count": 7,
   "metadata": {},
   "outputs": [
    {
     "name": "stdout",
     "output_type": "stream",
     "text": [
      "3\n",
      "1 2 3\n"
     ]
    },
    {
     "ename": "ValueError",
     "evalue": "max() arg is an empty sequence",
     "output_type": "error",
     "traceback": [
      "\u001b[1;31m---------------------------------------------------------------------------\u001b[0m",
      "\u001b[1;31mValueError\u001b[0m                                Traceback (most recent call last)",
      "\u001b[1;32m<ipython-input-7-840ac070de8f>\u001b[0m in \u001b[0;36m<module>\u001b[1;34m\u001b[0m\n\u001b[0;32m     27\u001b[0m     \u001b[1;32melse\u001b[0m\u001b[1;33m:\u001b[0m\u001b[1;33m\u001b[0m\u001b[1;33m\u001b[0m\u001b[0m\n\u001b[0;32m     28\u001b[0m         \u001b[1;32mreturn\u001b[0m \u001b[0mpc\u001b[0m\u001b[1;33m\u001b[0m\u001b[1;33m\u001b[0m\u001b[0m\n\u001b[1;32m---> 29\u001b[1;33m \u001b[0mclosestZero\u001b[0m\u001b[1;33m(\u001b[0m\u001b[0mli\u001b[0m\u001b[1;33m)\u001b[0m\u001b[1;33m\u001b[0m\u001b[1;33m\u001b[0m\u001b[0m\n\u001b[0m",
      "\u001b[1;32m<ipython-input-7-840ac070de8f>\u001b[0m in \u001b[0;36mclosestZero\u001b[1;34m(li)\u001b[0m\n\u001b[0;32m     17\u001b[0m         \u001b[1;32mif\u001b[0m \u001b[0mi\u001b[0m\u001b[1;33m>=\u001b[0m\u001b[1;36m0\u001b[0m\u001b[1;33m:\u001b[0m\u001b[1;33m\u001b[0m\u001b[1;33m\u001b[0m\u001b[0m\n\u001b[0;32m     18\u001b[0m             \u001b[0mp1\u001b[0m\u001b[1;33m.\u001b[0m\u001b[0mappend\u001b[0m\u001b[1;33m(\u001b[0m\u001b[0mi\u001b[0m\u001b[1;33m)\u001b[0m\u001b[1;33m\u001b[0m\u001b[1;33m\u001b[0m\u001b[0m\n\u001b[1;32m---> 19\u001b[1;33m     \u001b[0mnc\u001b[0m\u001b[1;33m=\u001b[0m\u001b[0mmax\u001b[0m\u001b[1;33m(\u001b[0m\u001b[0mn1\u001b[0m\u001b[1;33m)\u001b[0m\u001b[1;33m\u001b[0m\u001b[1;33m\u001b[0m\u001b[0m\n\u001b[0m\u001b[0;32m     20\u001b[0m     \u001b[0mpc\u001b[0m\u001b[1;33m=\u001b[0m\u001b[0mmin\u001b[0m\u001b[1;33m(\u001b[0m\u001b[0mp1\u001b[0m\u001b[1;33m)\u001b[0m\u001b[1;33m\u001b[0m\u001b[1;33m\u001b[0m\u001b[0m\n\u001b[0;32m     21\u001b[0m     \u001b[1;32mif\u001b[0m \u001b[0mpc\u001b[0m\u001b[1;33m==\u001b[0m\u001b[1;36m0\u001b[0m\u001b[1;33m:\u001b[0m\u001b[1;33m\u001b[0m\u001b[1;33m\u001b[0m\u001b[0m\n",
      "\u001b[1;31mValueError\u001b[0m: max() arg is an empty sequence"
     ]
    }
   ],
   "source": [
    "#separate all numbers less than zero and take max of that separated list\n",
    "#all numbers greater than =zer,get \n",
    "\n",
    "n=int(input())\n",
    "s=input()\n",
    "s=s.split()\n",
    "li=[]\n",
    "for i in s:\n",
    "    li.append(abs(int(i)))\n",
    "def closestZero(li):\n",
    "    n1=[]\n",
    "    for i in li:\n",
    "        if i<0:\n",
    "            n1.append(i)\n",
    "    p1=[]\n",
    "    for i in li:\n",
    "        if i>=0:\n",
    "            p1.append(i)\n",
    "    nc=max(n1)\n",
    "    pc=min(p1)\n",
    "    if pc==0:\n",
    "        return 0\n",
    "    if abs(nc)==pc:\n",
    "        return pc\n",
    "    elif abs(nc)<pc:\n",
    "        return abs(nc)\n",
    "    else:\n",
    "        return pc\n",
    "closestZero(li)"
   ]
  },
  {
   "cell_type": "code",
   "execution_count": null,
   "metadata": {},
   "outputs": [],
   "source": []
  },
  {
   "cell_type": "code",
   "execution_count": null,
   "metadata": {},
   "outputs": [],
   "source": []
  },
  {
   "cell_type": "code",
   "execution_count": 8,
   "metadata": {},
   "outputs": [
    {
     "name": "stdout",
     "output_type": "stream",
     "text": [
      "3\n",
      "12 3 2\n"
     ]
    },
    {
     "data": {
      "text/plain": [
       "2"
      ]
     },
     "execution_count": 8,
     "metadata": {},
     "output_type": "execute_result"
    }
   ],
   "source": [
    "n=int(input()) # one way to for above problem\n",
    "s=input()\n",
    "s=s.split()\n",
    "li=[]\n",
    "for i in s:\n",
    "    li.append(abs(int(i)))\n",
    "min(li)\n",
    "\n",
    "    \n",
    "    "
   ]
  },
  {
   "cell_type": "code",
   "execution_count": null,
   "metadata": {},
   "outputs": [],
   "source": []
  },
  {
   "cell_type": "code",
   "execution_count": 11,
   "metadata": {},
   "outputs": [
    {
     "name": "stdout",
     "output_type": "stream",
     "text": [
      "3\n",
      "1 2 3\n"
     ]
    },
    {
     "data": {
      "text/plain": [
       "1"
      ]
     },
     "execution_count": 11,
     "metadata": {},
     "output_type": "execute_result"
    }
   ],
   "source": [
    "n=int(input()) \n",
    "s=input()\n",
    "s=s.split()\n",
    "li=[]\n",
    "for i in s:\n",
    "    li.append((int(i)))\n",
    "def closestZero(li):\n",
    "    if 0 in li:\n",
    "        return 0\n",
    "    else:\n",
    "        li.sort()\n",
    "        pc=[]\n",
    "        nc=[]\n",
    "        for i in li:\n",
    "            if i>0:\n",
    "                pc.append(i)\n",
    "        for i in li:\n",
    "            if i<0:\n",
    "                nc.append(i)\n",
    "        if len(nc)==0:\n",
    "            return min(pc)\n",
    "        elif len(pc)==0:\n",
    "            return max(nc)\n",
    "        else:\n",
    "            nz=max(nc)\n",
    "            pz=min(pc)\n",
    "            if abs(nz)>pz or abs(nz)==pz:\n",
    "                return pz\n",
    "            else:\n",
    "                return nz\n",
    "\n",
    "closestZero(li)\n",
    "                    "
   ]
  },
  {
   "cell_type": "code",
   "execution_count": null,
   "metadata": {},
   "outputs": [],
   "source": []
  }
 ],
 "metadata": {
  "kernelspec": {
   "display_name": "Python 3",
   "language": "python",
   "name": "python3"
  },
  "language_info": {
   "codemirror_mode": {
    "name": "ipython",
    "version": 3
   },
   "file_extension": ".py",
   "mimetype": "text/x-python",
   "name": "python",
   "nbconvert_exporter": "python",
   "pygments_lexer": "ipython3",
   "version": "3.7.3"
  }
 },
 "nbformat": 4,
 "nbformat_minor": 2
}
