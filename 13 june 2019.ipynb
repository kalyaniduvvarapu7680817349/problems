{
 "cells": [
  {
   "cell_type": "markdown",
   "metadata": {},
   "source": [
    "#Function to calculate average of all factorials in a given range\n",
    "\n",
    "#Function to generate Multiplication table for a number in a given rangenge\n",
    "\n",
    "#Function to generate N odd armstrong number\n",
    "\n",
    "10 in the range(100,100)inclusive\n",
    "10*100=1000\n",
    "10*101=1010\n",
    "10*102=1020"
   ]
  },
  {
   "cell_type": "code",
   "execution_count": 3,
   "metadata": {},
   "outputs": [
    {
     "name": "stdout",
     "output_type": "stream",
     "text": [
      "10 x 100 = 1000\n",
      "10 x 101 = 1010\n",
      "10 x 102 = 1020\n",
      "10 x 103 = 1030\n",
      "10 x 104 = 1040\n",
      "10 x 105 = 1050\n",
      "10 x 106 = 1060\n",
      "10 x 107 = 1070\n",
      "10 x 108 = 1080\n",
      "10 x 109 = 1090\n",
      "10 x 110 = 1100\n"
     ]
    }
   ],
   "source": [
    "#Function to generate Multiplication table for a number in a given rangenge\n",
    "def MulTable(a,b):\n",
    "    n=10\n",
    "    for i in range(a,b+1):\n",
    "        print(n,'x',a,'=',n*i)\n",
    "        a=a+1\n",
    "MulTable(100,110)   \n",
    "    "
   ]
  },
  {
   "cell_type": "code",
   "execution_count": 4,
   "metadata": {},
   "outputs": [
    {
     "name": "stdout",
     "output_type": "stream",
     "text": [
      "2000 2004 2008 2012 2016 2020 "
     ]
    }
   ],
   "source": [
    "#generate leap years in a given time period\n",
    "def generateleapyears(sy,ey):\n",
    "    for year in range(sy,ey+1):\n",
    "        if year%400==0 or (year%4==0 and year%100!=0):\n",
    "            print(year,end=\" \")\n",
    "            year=year+1\n",
    "    return\n",
    "generateleapyears(2000,2020)"
   ]
  },
  {
   "cell_type": "code",
   "execution_count": null,
   "metadata": {},
   "outputs": [],
   "source": []
  },
  {
   "cell_type": "code",
   "execution_count": null,
   "metadata": {},
   "outputs": [],
   "source": []
  },
  {
   "cell_type": "code",
   "execution_count": null,
   "metadata": {},
   "outputs": [],
   "source": [
    "#calculate number of hours for a given period # (5,1975,3,1999)\n",
    "def numOfDaysMonth(month,year):\n",
    "    if month==2:\n",
    "        if isleapyear(year):\n",
    "            return 29\n",
    "        return 28\n",
    "    elif (month<=7 and month%2!=0) or (month>=8 and month%2==0):\n",
    "        return 31\n",
    "    else:\n",
    "        return 30 \n",
    "    \n",
    "#numOfDaysMonth(1,2019)\n",
    "    \n",
    "def daysInStartYear(startmonth,startyear):\n",
    "    days=0\n",
    "    for month in range(startmonth,13):\n",
    "        days+=numOfDaysMonth(startmonth,startyear)\n",
    "    return days\n",
    "#daysInStartYear(6,2019)\n",
    "\n",
    "\n",
    "\n",
    "def daysInEndYear(endmonth,endyear):\n",
    "    day=0\n",
    "    for month in range(1,endmonth+1):\n",
    "        days+=numOfDaysMonth(endmonth,endtyear)\n",
    "    return days\n",
    "\n",
    "#daysInEndYear(2,2020)\n",
    "\n",
    "\n",
    "def numberOfHours(startmonth,startyear,endmonth,endyear):\n",
    "    day=0\n",
    "    days+=daysInStartYear(startmonth,startyear)\n",
    "    days+=numOfDaysMonth(endmonth,endyear)\n",
    "    if endyear-startyear==2:\n",
    "        days+=NumofDays(startyear+1,startyear+1)\n",
    "    elif endyear-startyear>2:\n",
    "        days+=NumofDays(startyear+1,endyear-1)\n",
    "    return 24*days\n",
    "\n",
    "def numberOfHours(6,1975,3,1999)\n",
    "        \n",
    "    "
   ]
  }
 ],
 "metadata": {
  "kernelspec": {
   "display_name": "Python 3",
   "language": "python",
   "name": "python3"
  },
  "language_info": {
   "codemirror_mode": {
    "name": "ipython",
    "version": 3
   },
   "file_extension": ".py",
   "mimetype": "text/x-python",
   "name": "python",
   "nbconvert_exporter": "python",
   "pygments_lexer": "ipython3",
   "version": "3.7.3"
  }
 },
 "nbformat": 4,
 "nbformat_minor": 2
}
