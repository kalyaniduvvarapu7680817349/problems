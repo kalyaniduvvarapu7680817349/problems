{
 "cells": [
  {
   "cell_type": "code",
   "execution_count": null,
   "metadata": {},
   "outputs": [],
   "source": []
  },
  {
   "cell_type": "code",
   "execution_count": null,
   "metadata": {},
   "outputs": [],
   "source": [
    "def wordsFromFile(filepath):\n",
    "    pattern='[\\n]'\n",
    "    filedata=readfile(filepath)\n",
    "    allwordsList=re.split(pattern,filedata)\n",
    "    \n",
    "    return allwordsList\n",
    "    \n",
    "\n",
    "#wordsFromFile(filepath)\n",
    "\n",
    "\n",
    "def FreqDistributionOfWords(filepath):\n",
    "    allwords=wordsFromFile(filepath)\n",
    "    uniquewords=uniqueDta(filepath)\n",
    "    for word in uniquewords:\n",
    "        count=allwords.count(word)\n",
    "        print(word,':',count)\n",
    "    return\n",
    "FreqDistributionOfWords(filepath)"
   ]
  },
  {
   "cell_type": "code",
   "execution_count": 13,
   "metadata": {},
   "outputs": [
    {
     "name": "stdout",
     "output_type": "stream",
     "text": [
      "{'data': 3, 'line': 3, '1': 1, '2': 1, '3': 1, 'RGUKT': 1, 'NUZVID': 2, 'AP': 1, 'IIIT': 1}\n"
     ]
    }
   ],
   "source": [
    "def FreqDistributionOfWords(file):\n",
    "    with open(file, 'r') as f:\n",
    "        file=f.read().split()\n",
    "        count={}\n",
    "        for word in file:\n",
    "            if word in count:\n",
    "                count[word]+=1\n",
    "            else:\n",
    "                count[word]=1\n",
    "        print(count)\n",
    "#str=['Hi','RGUKT', 'Hi',]\n",
    "file=('book.txt')\n",
    "FreqDistributionOfWords(file)\n"
   ]
  },
  {
   "cell_type": "code",
   "execution_count": null,
   "metadata": {},
   "outputs": [],
   "source": [
    "# Contacts Application\n",
    "    # Search,Add,List,Modify Delete Contacts\n",
    "    \n",
    "# Find and Replace Application\n",
    "    #Count the total number of Occurances of a word\n",
    "    #If Word is Existing\n",
    "    #Replace all occurances of a word with another word\n",
    "    \n",
    "#Marks Analysis Application\n",
    "    # Generate marks file for n students\n",
    "    #Input:Marks text file - each line contains marks of each student\n",
    "    # Generates a report with the following information\n",
    "        #Class average \n",
    "        # % of students passed\n",
    "        # % of failed students\n",
    "        # % of students with Distinction\n",
    "        # Highest Mark Frequency\n",
    "        # Lowest Mark Frequency"
   ]
  },
  {
   "cell_type": "code",
   "execution_count": 18,
   "metadata": {},
   "outputs": [],
   "source": [
    "#Function to generate marks Data for n students\n",
    "\n",
    "from random import randint\n",
    "\n",
    "def generateMarks(n,lb,ub):\n",
    "    with open('Datafile/marks.txt','w') as f:\n",
    "        for i in range(0,n):\n",
    "            r=randint(lb,ub)\n",
    "            f.write(str(r)+'\\n')\n",
    "    return \n",
    "\n",
    "\n",
    "generateMarks(10000,0,100)    "
   ]
  },
  {
   "cell_type": "code",
   "execution_count": null,
   "metadata": {},
   "outputs": [],
   "source": []
  },
  {
   "cell_type": "markdown",
   "metadata": {},
   "source": [
    "### Assessment Problems"
   ]
  },
  {
   "cell_type": "markdown",
   "metadata": {},
   "source": [
    "### Sum Of Digits in a given integer"
   ]
  },
  {
   "cell_type": "code",
   "execution_count": 11,
   "metadata": {},
   "outputs": [
    {
     "name": "stdout",
     "output_type": "stream",
     "text": [
      "6\n"
     ]
    }
   ],
   "source": [
    "def SumOfDigits(n):\n",
    "    sum=0\n",
    "    while(n>0):\n",
    "        digit=n%10\n",
    "        sum=sum+digit\n",
    "        n=n//10\n",
    "    print(sum)\n",
    "\n",
    "SumOfDigits(123)"
   ]
  },
  {
   "cell_type": "code",
   "execution_count": null,
   "metadata": {},
   "outputs": [],
   "source": []
  }
 ],
 "metadata": {
  "kernelspec": {
   "display_name": "Python 3",
   "language": "python",
   "name": "python3"
  },
  "language_info": {
   "codemirror_mode": {
    "name": "ipython",
    "version": 3
   },
   "file_extension": ".py",
   "mimetype": "text/x-python",
   "name": "python",
   "nbconvert_exporter": "python",
   "pygments_lexer": "ipython3",
   "version": "3.7.3"
  }
 },
 "nbformat": 4,
 "nbformat_minor": 2
}
