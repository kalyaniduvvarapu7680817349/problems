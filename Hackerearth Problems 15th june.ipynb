{
 "cells": [
  {
   "cell_type": "markdown",
   "metadata": {},
   "source": [
    "### Hackerearth Problems"
   ]
  },
  {
   "cell_type": "code",
   "execution_count": null,
   "metadata": {},
   "outputs": [],
   "source": []
  },
  {
   "cell_type": "code",
   "execution_count": 6,
   "metadata": {},
   "outputs": [
    {
     "name": "stdout",
     "output_type": "stream",
     "text": [
      "2\n",
      "1 44 2 14\n",
      "0 30\n",
      "2 42 8 23\n",
      "5 41\n"
     ]
    }
   ],
   "source": [
    "#DURATION\n",
    "\n",
    "\n",
    "\n",
    "def duration(sh,sm,eh,em):\n",
    "    start=(sh*60)+sm\n",
    "    end=(eh*60)+em\n",
    "    d=end-start\n",
    "    if d<60:\n",
    "        print(0,end=\" \")\n",
    "        print(d)\n",
    "    elif d>=60:\n",
    "        hr=d//60\n",
    "        mn=d%60\n",
    "        print(hr,end=\" \")\n",
    "        print(mn)\n",
    "n=int(input())\n",
    "for i in range(1,n+1):\n",
    "    sh,sm,eh,em=input().split()\n",
    "    duration(int(sh),int(sm),int(eh),int(em))"
   ]
  },
  {
   "cell_type": "code",
   "execution_count": null,
   "metadata": {},
   "outputs": [],
   "source": []
  },
  {
   "cell_type": "code",
   "execution_count": 18,
   "metadata": {},
   "outputs": [
    {
     "name": "stdout",
     "output_type": "stream",
     "text": [
      " aba\n",
      "4\n"
     ]
    }
   ],
   "source": [
    "#char Sum\n",
    "\n",
    "s=input(\" \")\n",
    "def charSum(s):\n",
    "    sum=0\n",
    "    for i in range(len(s)):\n",
    "        if s[i]>=chr(97) and s[i]<=chr(122):\n",
    "            sum=sum+(ord(s[i])-96)\n",
    "    print(sum)\n",
    "\n",
    "charSum(s)"
   ]
  },
  {
   "cell_type": "code",
   "execution_count": null,
   "metadata": {},
   "outputs": [],
   "source": []
  },
  {
   "cell_type": "code",
   "execution_count": null,
   "metadata": {},
   "outputs": [],
   "source": []
  },
  {
   "cell_type": "code",
   "execution_count": 21,
   "metadata": {},
   "outputs": [
    {
     "name": "stdout",
     "output_type": "stream",
     "text": [
      "9\n",
      "2 3 5 7 "
     ]
    }
   ],
   "source": [
    "# PRIME NUMBER\n",
    "\n",
    "def isPrime(n):\n",
    "    for i in range(2,n//2+1):\n",
    "        if n%i==0:\n",
    "            return False\n",
    "    return True\n",
    "def Prime(n):\n",
    "    for i in range(2,n+1):\n",
    "        if isPrime(i):\n",
    "            print(i,end=\" \")\n",
    "    return\n",
    "n=int(input())\n",
    "Prime(n)\n"
   ]
  },
  {
   "cell_type": "code",
   "execution_count": null,
   "metadata": {},
   "outputs": [],
   "source": []
  },
  {
   "cell_type": "code",
   "execution_count": null,
   "metadata": {},
   "outputs": [],
   "source": []
  },
  {
   "cell_type": "code",
   "execution_count": 31,
   "metadata": {},
   "outputs": [
    {
     "name": "stdout",
     "output_type": "stream",
     "text": [
      " aba\n",
      "YES\n"
     ]
    }
   ],
   "source": [
    "#PALINDROMIC STRING\n",
    "\n",
    "\n",
    "def isPalindrome(s):\n",
    "    if s==s[::-1]:\n",
    "        print(\"YES\")\n",
    "    else:\n",
    "        print(\"NO\")\n",
    "s=input(\" \")\n",
    "isPalindrome(s)"
   ]
  },
  {
   "cell_type": "code",
   "execution_count": null,
   "metadata": {},
   "outputs": [],
   "source": []
  },
  {
   "cell_type": "code",
   "execution_count": 36,
   "metadata": {},
   "outputs": [
    {
     "name": "stdout",
     "output_type": "stream",
     "text": [
      "1 10 1\n",
      "10\n"
     ]
    }
   ],
   "source": [
    "# COUNT DIVISORS\n",
    "\n",
    "def CounDivisor(i,j,k):\n",
    "    count=0\n",
    "    for i in range(i,j+1):\n",
    "        if i%k==0:\n",
    "            count+=1\n",
    "    print(count)\n",
    "    return \n",
    "s=input()\n",
    "s=s.split()\n",
    "i=int(s[0])\n",
    "j=int(s[1])\n",
    "k=int(s[2])\n",
    "CounDivisor(i,j,k)\n",
    "\n",
    "    "
   ]
  },
  {
   "cell_type": "code",
   "execution_count": null,
   "metadata": {},
   "outputs": [],
   "source": []
  },
  {
   "cell_type": "code",
   "execution_count": 42,
   "metadata": {},
   "outputs": [
    {
     "name": "stdout",
     "output_type": "stream",
     "text": [
      "4\n",
      "24\n"
     ]
    }
   ],
   "source": [
    "# FACTORIAL\n",
    "\n",
    "\n",
    "\n",
    "def factorial(n):\n",
    "    factorial=1\n",
    "    for i in range(1,n+1):\n",
    "            factorial=factorial*i\n",
    "    print(factorial)\n",
    "n=int(input())\n",
    "factorial(n)\n",
    "        "
   ]
  },
  {
   "cell_type": "code",
   "execution_count": null,
   "metadata": {},
   "outputs": [],
   "source": []
  },
  {
   "cell_type": "code",
   "execution_count": null,
   "metadata": {},
   "outputs": [],
   "source": []
  },
  {
   "cell_type": "code",
   "execution_count": 49,
   "metadata": {},
   "outputs": [
    {
     "name": "stdout",
     "output_type": "stream",
     "text": [
      "Aba\n",
      "a B A "
     ]
    }
   ],
   "source": [
    "n=input()\n",
    "def toggle(n):\n",
    "    for i in n:\n",
    "        if i==i.upper():\n",
    "            s=i.lower()\n",
    "        elif i==i.lower():\n",
    "            s=i.upper()\n",
    "        print(s,end=\" \")\n",
    "toggle(n)"
   ]
  },
  {
   "cell_type": "code",
   "execution_count": null,
   "metadata": {},
   "outputs": [],
   "source": []
  },
  {
   "cell_type": "code",
   "execution_count": null,
   "metadata": {},
   "outputs": [],
   "source": []
  },
  {
   "cell_type": "code",
   "execution_count": null,
   "metadata": {},
   "outputs": [],
   "source": [
    "\n"
   ]
  },
  {
   "cell_type": "code",
   "execution_count": null,
   "metadata": {},
   "outputs": [],
   "source": []
  },
  {
   "cell_type": "code",
   "execution_count": null,
   "metadata": {},
   "outputs": [],
   "source": []
  },
  {
   "cell_type": "code",
   "execution_count": 8,
   "metadata": {},
   "outputs": [
    {
     "name": "stdout",
     "output_type": "stream",
     "text": [
      "2\n",
      "wer\n",
      "rew\n",
      "YES\n"
     ]
    }
   ],
   "source": [
    "# TWO STRINGS\n",
    "\n",
    "\n",
    "def twostrs(s1,s2):\n",
    "    ss1=sorted(s1)\n",
    "    ss2=sorted(s2)\n",
    "    if ss1==ss2:\n",
    "        print(\"YES\")\n",
    "    else:\n",
    "        print(\"NO\")\n",
    "n=int(input())\n",
    "s1=input()\n",
    "s2=input()\n",
    "#for i in n:\n",
    "    #l=input().split()\n",
    "twostrs(s1,s2)"
   ]
  },
  {
   "cell_type": "code",
   "execution_count": null,
   "metadata": {},
   "outputs": [],
   "source": []
  }
 ],
 "metadata": {
  "kernelspec": {
   "display_name": "Python 3",
   "language": "python",
   "name": "python3"
  }
 },
 "nbformat": 4,
 "nbformat_minor": 2
}
