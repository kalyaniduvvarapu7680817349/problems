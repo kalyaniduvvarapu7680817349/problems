{
 "cells": [
  {
   "cell_type": "markdown",
   "metadata": {},
   "source": [
    "### Life,the Universe and Everuthing"
   ]
  },
  {
   "cell_type": "code",
   "execution_count": 3,
   "metadata": {},
   "outputs": [
    {
     "name": "stdout",
     "output_type": "stream",
     "text": [
      "1\n",
      "1\n",
      "34\n",
      "34\n",
      "42\n"
     ]
    }
   ],
   "source": [
    "def LifeUniverse(n):\n",
    "    while(True):\n",
    "        n=int(input())\n",
    "        if n!=42:\n",
    "            print(n)\n",
    "        else:\n",
    "            break\n",
    "\n",
    "LifeUniverse(n)"
   ]
  },
  {
   "cell_type": "markdown",
   "metadata": {},
   "source": [
    "### Goki and his Breakup"
   ]
  },
  {
   "cell_type": "code",
   "execution_count": 2,
   "metadata": {},
   "outputs": [
    {
     "name": "stdout",
     "output_type": "stream",
     "text": [
      "5\n",
      "100\n",
      "110\n",
      "YES\n",
      "23\n",
      "NO\n",
      "34\n",
      "NO\n",
      "120\n",
      "YES\n",
      "50\n",
      "NO\n"
     ]
    }
   ],
   "source": [
    "p=int(input()) # test cases(number of people)\n",
    "rs=int(input()) # required skill\n",
    "for i in range(p):\n",
    "    s=int(input()) # inputs\n",
    "    if s>=rs:\n",
    "        print(\"YES\") M\n",
    "    else:\n",
    "        print(\"NO\")"
   ]
  },
  {
   "cell_type": "code",
   "execution_count": null,
   "metadata": {},
   "outputs": [],
   "source": []
  },
  {
   "cell_type": "code",
   "execution_count": 5,
   "metadata": {},
   "outputs": [
    {
     "data": {
      "text/plain": [
       "[['new data kalyani 123\\n'],\n",
       " ['kalyani', '1234567890', 'kalyani@gmail.com\\n'],\n",
       " ['ram', '0987654321', 'ram123@gmail.com']]"
      ]
     },
     "execution_count": 5,
     "metadata": {},
     "output_type": "execute_result"
    }
   ],
   "source": [
    "filename='DataFile/data.txt'\n",
    "def contactsTolist(filename):\n",
    "    li=[]\n",
    "    with open(filename,'r')as f:\n",
    "        for line in f:\n",
    "            li.append(line.split(','))\n",
    "        return li\n",
    "    \n",
    "contactsTolist(filename)\n"
   ]
  },
  {
   "cell_type": "code",
   "execution_count": null,
   "metadata": {},
   "outputs": [],
   "source": []
  },
  {
   "cell_type": "code",
   "execution_count": null,
   "metadata": {},
   "outputs": [],
   "source": []
  },
  {
   "cell_type": "code",
   "execution_count": 1,
   "metadata": {},
   "outputs": [
    {
     "data": {
      "text/plain": [
       "'new data\\n\\nname1,9876543210,name1_234@gmail.com\\nname2,6789054321,name2_235@gmail.comname1,9087654321,name1_123@gmail.com\\nname1,9087654321,name1_123@gmail.com\\nname1,9087654321,name1_123@gmail.com\\nname1,9087654321,name1_123@gmail.com\\nname1,9087654321,name1_123@gmail.com\\nname1,9087654321,name1_123@gmail.com\\nname1,9087654321,name1_123@gmail.com\\nname1,9087654321,name1_123@gmail.com\\nname1,9087654321,name1_123@gmail.com\\nname1,9087654321,name1_123@gmail.com\\nname1,9087654321,name1_123@gmail.com\\nname1,9087654321,name1_123@gmail.com\\nname1,9087654321,name1_123@gmail.com\\nname1,9087654321,name1_123@gmail.com\\nname1,9087654321,name1_123@gmail.com\\nname1,9087654321,name1_123@gmail.com\\nname1,9087654321,name1_123@gmail.com\\nname1,9087654321,name1_123@gmail.com\\nname1,9087654321,name1_123@gmail.com\\nname1,9087654321,name1_123@gmail.com\\nname1,9087654321,name1_123@gmail.com\\nname1,9087654321,name1_123@gmail.com\\nname1,9087654321,name1_123@gmail.com\\n'"
      ]
     },
     "execution_count": 1,
     "metadata": {},
     "output_type": "execute_result"
    }
   ],
   "source": [
    "filename = 'Datafile/data.txt'\n",
    "def csvToList(filename):\n",
    "    li = []\n",
    "    with open(filename, 'r') as f:\n",
    "        for line in f:\n",
    "            li.append(line.split(','))\n",
    "    return li\n",
    "\n",
    "def listToFile(li):\n",
    "    s = ''\n",
    "    for i in li:\n",
    "        s += ','.join(i)\n",
    "    return s\n",
    "    \n",
    "li = csvToList(filename)\n",
    "listToFile(li)"
   ]
  },
  {
   "cell_type": "markdown",
   "metadata": {},
   "source": [
    "### My Tasks"
   ]
  },
  {
   "cell_type": "code",
   "execution_count": 8,
   "metadata": {},
   "outputs": [
    {
     "name": "stdout",
     "output_type": "stream",
     "text": [
      "{}\n",
      "conatcts added\n"
     ]
    }
   ],
   "source": [
    "#Add Contacts\n",
    "contacts={}\n",
    "print(contacts)\n",
    "\n",
    "def addContact(name,phone):\n",
    "    if name not in contacts:\n",
    "        contacts[name]=phone\n",
    "        print(\"conatcts added\")\n",
    "    else:\n",
    "        print(\"contacts alredy exsits\")\n",
    "addContact(\"kalyani\",\"9876543210\")"
   ]
  },
  {
   "cell_type": "code",
   "execution_count": 9,
   "metadata": {},
   "outputs": [
    {
     "name": "stdout",
     "output_type": "stream",
     "text": [
      "kalyani : 9876543210\n"
     ]
    }
   ],
   "source": [
    "#search contact\n",
    "def searchContact(name):\n",
    "    if name in contacts:\n",
    "        print(name,\":\",contacts[name])\n",
    "    else:\n",
    "        print(name,\"not in contacts\")\n",
    "\n",
    "        \n",
    "        \n",
    "searchContact(\"kalyani\")"
   ]
  },
  {
   "cell_type": "code",
   "execution_count": null,
   "metadata": {},
   "outputs": [],
   "source": []
  },
  {
   "cell_type": "code",
   "execution_count": 12,
   "metadata": {},
   "outputs": [
    {
     "name": "stdout",
     "output_type": "stream",
     "text": [
      "contact deleted\n"
     ]
    }
   ],
   "source": [
    "#deleting a conytact\n",
    "def deleteContact(name):\n",
    "    if name in contacts:\n",
    "        contacts.pop(name)\n",
    "        print(\"contact deleted\")\n",
    "    else:\n",
    "        print(\"contact not found\")\n",
    "deleteContact(\"kalyani\")"
   ]
  },
  {
   "cell_type": "code",
   "execution_count": null,
   "metadata": {},
   "outputs": [],
   "source": []
  },
  {
   "cell_type": "code",
   "execution_count": 15,
   "metadata": {},
   "outputs": [
    {
     "data": {
      "text/plain": [
       "[['new data kalyani 123\\n'],\n",
       " ['kalyani', '1234567890', 'kalyani@gmail.com\\n'],\n",
       " ['ram', '0987654321', 'ram123@gmail.com']]"
      ]
     },
     "execution_count": 15,
     "metadata": {},
     "output_type": "execute_result"
    }
   ],
   "source": [
    "def CSVtolist(filename):\n",
    "    with open(filename,'r') as f:\n",
    "        f1=[]\n",
    "        for line in f:\n",
    "            f1.append(line.split(sep=','))\n",
    "    return f1\n",
    "CSVtolist(filename)"
   ]
  },
  {
   "cell_type": "code",
   "execution_count": null,
   "metadata": {},
   "outputs": [],
   "source": []
  },
  {
   "cell_type": "code",
   "execution_count": 22,
   "metadata": {},
   "outputs": [],
   "source": [
    "# Update contacts\n",
    "def addContactupdate(name,phone,mail):\n",
    "    if name in data:\n",
    "        print(\"contact already added\")\n",
    "    elif name not in data:\n",
    "        if not phoneNoValidator(phone):\n",
    "            print(\"phone is Invalid\")\n",
    "            return\n",
    "        if not emailValidator(mail):\n",
    "            print(\"email is Invalid\")\n",
    "            return\n",
    "        newcontact=[]\n",
    "        newcontact.append(phone)\n",
    "        newcontact.append(mail)\n",
    "        data[name]=newcontact\n",
    "        return"
   ]
  },
  {
   "cell_type": "code",
   "execution_count": null,
   "metadata": {},
   "outputs": [],
   "source": []
  },
  {
   "cell_type": "code",
   "execution_count": null,
   "metadata": {},
   "outputs": [],
   "source": []
  },
  {
   "cell_type": "code",
   "execution_count": null,
   "metadata": {},
   "outputs": [],
   "source": []
  },
  {
   "cell_type": "code",
   "execution_count": null,
   "metadata": {},
   "outputs": [],
   "source": []
  },
  {
   "cell_type": "code",
   "execution_count": null,
   "metadata": {},
   "outputs": [],
   "source": []
  },
  {
   "cell_type": "code",
   "execution_count": null,
   "metadata": {},
   "outputs": [],
   "source": []
  },
  {
   "cell_type": "code",
   "execution_count": null,
   "metadata": {},
   "outputs": [],
   "source": []
  },
  {
   "cell_type": "code",
   "execution_count": null,
   "metadata": {},
   "outputs": [],
   "source": []
  },
  {
   "cell_type": "code",
   "execution_count": null,
   "metadata": {},
   "outputs": [],
   "source": []
  },
  {
   "cell_type": "code",
   "execution_count": null,
   "metadata": {},
   "outputs": [],
   "source": []
  },
  {
   "cell_type": "code",
   "execution_count": null,
   "metadata": {},
   "outputs": [],
   "source": []
  },
  {
   "cell_type": "code",
   "execution_count": null,
   "metadata": {},
   "outputs": [],
   "source": []
  },
  {
   "cell_type": "code",
   "execution_count": null,
   "metadata": {},
   "outputs": [],
   "source": []
  },
  {
   "cell_type": "code",
   "execution_count": null,
   "metadata": {},
   "outputs": [],
   "source": []
  },
  {
   "cell_type": "code",
   "execution_count": null,
   "metadata": {},
   "outputs": [],
   "source": []
  },
  {
   "cell_type": "code",
   "execution_count": null,
   "metadata": {},
   "outputs": [],
   "source": []
  },
  {
   "cell_type": "code",
   "execution_count": null,
   "metadata": {},
   "outputs": [],
   "source": []
  },
  {
   "cell_type": "code",
   "execution_count": null,
   "metadata": {},
   "outputs": [],
   "source": []
  },
  {
   "cell_type": "code",
   "execution_count": null,
   "metadata": {},
   "outputs": [],
   "source": []
  },
  {
   "cell_type": "code",
   "execution_count": null,
   "metadata": {},
   "outputs": [],
   "source": []
  },
  {
   "cell_type": "code",
   "execution_count": null,
   "metadata": {},
   "outputs": [],
   "source": []
  }
 ],
 "metadata": {
  "kernelspec": {
   "display_name": "Python 3",
   "language": "python",
   "name": "python3"
  },
  "language_info": {
   "codemirror_mode": {
    "name": "ipython",
    "version": 3
   },
   "file_extension": ".py",
   "mimetype": "text/x-python",
   "name": "python",
   "nbconvert_exporter": "python",
   "pygments_lexer": "ipython3",
   "version": "3.7.3"
  }
 },
 "nbformat": 4,
 "nbformat_minor": 2
}
