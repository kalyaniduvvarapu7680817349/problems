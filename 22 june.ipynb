{
 "cells": [
  {
   "cell_type": "markdown",
   "metadata": {},
   "source": [
    "### Date: 22nd June 2019\n",
    "\n",
    "### Day Objectives\n",
    "- File Handling\n",
    "    - Basic File Data Processing\n",
    "        - Accessing and Modifying File Data\n",
    "    - Character Count\n",
    "    - Line Count\n",
    "    - File Size\n",
    "    - Word Count\n",
    "    - Unique Word Count "
   ]
  },
  {
   "cell_type": "code",
   "execution_count": 1,
   "metadata": {},
   "outputs": [
    {
     "name": "stdout",
     "output_type": "stream",
     "text": [
      "<class '_io.TextIOWrapper'>\n"
     ]
    }
   ],
   "source": [
    "# Read a File - File should exist(Read mode)\n",
    "# Write to a File  - Existing(append) or New File(write mode)\n",
    "\n",
    "\n",
    "def readFile(filePath):\n",
    "    with open(filePath,'r') as f:\n",
    "        print(type(f))\n",
    "    return\n",
    "filePath='book.txt'\n",
    "readFile(filePath)                   #finding 'f' type\n",
    "\n",
    "    \n",
    "\n"
   ]
  },
  {
   "cell_type": "code",
   "execution_count": 2,
   "metadata": {},
   "outputs": [
    {
     "data": {
      "text/plain": [
       "'hi every one\\nline1\\nline2\\nline3\\nline4'"
      ]
     },
     "execution_count": 2,
     "metadata": {},
     "output_type": "execute_result"
    }
   ],
   "source": [
    "# Reading\n",
    "def readFile(filePath):\n",
    "    with open(filePath,'r') as f:\n",
    "        filedata=f.read()\n",
    "    return filedata\n",
    "\n",
    "filePath='book.txt'\n",
    "readFile(filePath)  "
   ]
  },
  {
   "cell_type": "code",
   "execution_count": 3,
   "metadata": {},
   "outputs": [
    {
     "name": "stdout",
     "output_type": "stream",
     "text": [
      "hi every one\n",
      "line1\n",
      "line2\n",
      "line3\n",
      "line4\n"
     ]
    }
   ],
   "source": [
    "def readFile(filePath):\n",
    "    with open(filePath,'r') as f:\n",
    "        filedata=f.read()\n",
    "    return filedata\n",
    "\n",
    "filePath='book.txt'\n",
    "print(readFile(filePath)) "
   ]
  },
  {
   "cell_type": "code",
   "execution_count": 20,
   "metadata": {},
   "outputs": [
    {
     "name": "stdout",
     "output_type": "stream",
     "text": [
      "Hi RGUKT\n"
     ]
    }
   ],
   "source": [
    "fh=open('book.txt','r')\n",
    "matter=\"Hi RGUKT\"\n",
    "#fh.write(matter)\n",
    "print(fh.read())    \n",
    "fh.close()"
   ]
  },
  {
   "cell_type": "code",
   "execution_count": 29,
   "metadata": {},
   "outputs": [
    {
     "data": {
      "text/plain": [
       "'book.txt'"
      ]
     },
     "execution_count": 29,
     "metadata": {},
     "output_type": "execute_result"
    }
   ],
   "source": [
    "f"
   ]
  },
  {
   "cell_type": "code",
   "execution_count": null,
   "metadata": {},
   "outputs": [],
   "source": []
  },
  {
   "cell_type": "code",
   "execution_count": 19,
   "metadata": {},
   "outputs": [
    {
     "name": "stdout",
     "output_type": "stream",
     "text": [
      "Hi RGUKT 123\n",
      "AP RGUIIIT Nuzvid\n"
     ]
    }
   ],
   "source": [
    "with open('book.txt','r') as f:\n",
    "    print(f.read())"
   ]
  },
  {
   "cell_type": "code",
   "execution_count": 45,
   "metadata": {},
   "outputs": [
    {
     "name": "stdout",
     "output_type": "stream",
     "text": [
      "31\n",
      "7\n",
      "1\n"
     ]
    }
   ],
   "source": [
    "#finding no of characters, Word , Lines\n",
    "f=open('book.txt','r') \n",
    "data=f.read()\n",
    "print(len(data)) # Num of chars\n",
    "print(len(data.split())) # Num of Words\n",
    "print(len(data.splitlines())) # Num of Lines\n"
   ]
  },
  {
   "cell_type": "code",
   "execution_count": null,
   "metadata": {},
   "outputs": [],
   "source": []
  },
  {
   "cell_type": "code",
   "execution_count": 47,
   "metadata": {},
   "outputs": [
    {
     "data": {
      "text/plain": [
       "1"
      ]
     },
     "execution_count": 47,
     "metadata": {},
     "output_type": "execute_result"
    }
   ],
   "source": [
    "def nolist(filename):\n",
    "    count=0\n",
    "    with open (filename,'r') as f:\n",
    "        for i in f:\n",
    "            count+=1\n",
    "        return count\n",
    "nolist(filename)"
   ]
  },
  {
   "cell_type": "code",
   "execution_count": null,
   "metadata": {},
   "outputs": [],
   "source": []
  },
  {
   "cell_type": "code",
   "execution_count": 32,
   "metadata": {},
   "outputs": [
    {
     "name": "stdout",
     "output_type": "stream",
     "text": [
      "3\n",
      "8\n",
      "32\n"
     ]
    }
   ],
   "source": [
    "infile = open('book.txt', 'r')\n",
    "lines = 0\n",
    "words = 0\n",
    "characters = 0\n",
    "for line in infile:\n",
    "    wordslist = line.split()\n",
    "    lines = lines + 1\n",
    "    words = words + len(wordslist)\n",
    "    characters = characters + len(line)\n",
    "print(lines)\n",
    "print(words)\n",
    "print(characters)"
   ]
  },
  {
   "cell_type": "code",
   "execution_count": null,
   "metadata": {},
   "outputs": [],
   "source": []
  },
  {
   "cell_type": "code",
   "execution_count": 37,
   "metadata": {},
   "outputs": [
    {
     "name": "stdout",
     "output_type": "stream",
     "text": [
      "Unique words: 7\n"
     ]
    }
   ],
   "source": [
    "# Finding Unique words in a text file\n",
    "\n",
    "with open(\"book.txt\", \"r\") as file:\n",
    "    lines = file.read().splitlines()\n",
    "\n",
    "    uniques = set()\n",
    "    for line in lines:\n",
    "        uniques = set(line.split())\n",
    "\n",
    "    print(f\"Unique words: {len(uniques)}\")"
   ]
  },
  {
   "cell_type": "code",
   "execution_count": 41,
   "metadata": {},
   "outputs": [
    {
     "data": {
      "text/plain": [
       "31"
      ]
     },
     "execution_count": 41,
     "metadata": {},
     "output_type": "execute_result"
    }
   ],
   "source": [
    "# Size of the file in bytes\n",
    "\n",
    "import os\n",
    "os.path.getsize('book.txt')"
   ]
  },
  {
   "cell_type": "code",
   "execution_count": 43,
   "metadata": {},
   "outputs": [
    {
     "name": "stdout",
     "output_type": "stream",
     "text": [
      "31 bytes\n"
     ]
    }
   ],
   "source": [
    "import os\n",
    "def fileSize(filename):\n",
    "\n",
    "    a=os.path.getsize(filename)\n",
    "    if(a<1024):\n",
    "        print(a,\"bytes\")\n",
    "    elif(a>1024):\n",
    "        print(a/1024,\"kb\")\n",
    "    elif(a>1024000):\n",
    "        print(a/1024000,\"mb\")\n",
    "    \n",
    "    \n",
    "\n",
    "fileSize(filename)"
   ]
  },
  {
   "cell_type": "code",
   "execution_count": null,
   "metadata": {},
   "outputs": [],
   "source": []
  }
 ],
 "metadata": {
  "kernelspec": {
   "display_name": "Python 3",
   "language": "python",
   "name": "python3"
  },
  "language_info": {
   "codemirror_mode": {
    "name": "ipython",
    "version": 3
   },
   "file_extension": ".py",
   "mimetype": "text/x-python",
   "name": "python",
   "nbconvert_exporter": "python",
   "pygments_lexer": "ipython3",
   "version": "3.7.3"
  }
 },
 "nbformat": 4,
 "nbformat_minor": 2
}
