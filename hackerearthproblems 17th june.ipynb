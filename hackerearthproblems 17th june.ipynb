{
 "cells": [
  {
   "cell_type": "code",
   "execution_count": null,
   "metadata": {},
   "outputs": [],
   "source": []
  },
  {
   "cell_type": "code",
   "execution_count": null,
   "metadata": {},
   "outputs": [],
   "source": []
  },
  {
   "cell_type": "code",
   "execution_count": 20,
   "metadata": {},
   "outputs": [
    {
     "name": "stdout",
     "output_type": "stream",
     "text": [
      "5\n",
      "3\n"
     ]
    }
   ],
   "source": [
    "def CountDigitLetter(s):\n",
    "    count1=0\n",
    "    count2=0\n",
    "    for i in s:\n",
    "        if(i.isdigit()):\n",
    "            count1=count1+1\n",
    "        elif(i.isalpha()):\n",
    "            count2=count2+1\n",
    "    print(count2)\n",
    "    print(count1)\n",
    "CountDigitLetter(\"hello123\")"
   ]
  },
  {
   "cell_type": "code",
   "execution_count": null,
   "metadata": {},
   "outputs": [],
   "source": []
  },
  {
   "cell_type": "code",
   "execution_count": 43,
   "metadata": {},
   "outputs": [
    {
     "name": "stdout",
     "output_type": "stream",
     "text": [
      "3\n",
      "12\n",
      "NO\n",
      "13\n",
      "NO\n",
      "28\n",
      "YES\n"
     ]
    }
   ],
   "source": [
    "def isPerfect(num):\n",
    "    sum=0\n",
    "    for i in range(1,num):\n",
    "        if (num)%i==0:\n",
    "            sum=sum+i\n",
    "    if (num)==sum:\n",
    "        print(\"YES\")\n",
    "    else:\n",
    "        print(\"NO\")\n",
    "n=int(input())\n",
    "for i in range(1,n+1):\n",
    "    i=int(input())\n",
    "    isPerfect(i)\n",
    "        "
   ]
  },
  {
   "cell_type": "code",
   "execution_count": null,
   "metadata": {},
   "outputs": [],
   "source": []
  },
  {
   "cell_type": "code",
   "execution_count": null,
   "metadata": {},
   "outputs": [],
   "source": []
  },
  {
   "cell_type": "code",
   "execution_count": 11,
   "metadata": {},
   "outputs": [
    {
     "name": "stdout",
     "output_type": "stream",
     "text": [
      "2\n",
      "5\n"
     ]
    },
    {
     "data": {
      "text/plain": [
       "True"
      ]
     },
     "execution_count": 11,
     "metadata": {},
     "output_type": "execute_result"
    }
   ],
   "source": [
    "def prime(n):\n",
    "    x=0\n",
    "    for i in range(1,n+1):\n",
    "        if n%i==0:\n",
    "            x+=1\n",
    "    if x==2:\n",
    "        return True\n",
    "        \n",
    "        \n",
    "def factors(n):\n",
    "    c=0\n",
    "    for j in range(1,n+1):\n",
    "        if n%j==0:\n",
    "            if prime(j):\n",
    "                print(j)\n",
    "                c+=1\n",
    "    if c==2:\n",
    "        return True\n",
    "    else:\n",
    "        return False\n",
    "factors(10)\n",
    "\n"
   ]
  },
  {
   "cell_type": "code",
   "execution_count": null,
   "metadata": {},
   "outputs": [],
   "source": []
  },
  {
   "cell_type": "code",
   "execution_count": null,
   "metadata": {},
   "outputs": [],
   "source": []
  },
  {
   "cell_type": "code",
   "execution_count": 4,
   "metadata": {},
   "outputs": [
    {
     "name": "stdout",
     "output_type": "stream",
     "text": [
      "[5, 2, 1, 1]\n",
      "[0, 1, 2, 1]\n",
      "3\n"
     ]
    }
   ],
   "source": [
    "\n",
    "def maxRem(n):\n",
    "    Div=[]\n",
    "    rem=[]\n",
    "    for i in range(1,n):\n",
    "        Div.append(n//i)\n",
    "        rem.append(n%i)\n",
    "    print(Div)\n",
    "    print(rem)\n",
    "    print(rem.index(max(rem))+1)\n",
    "    \n",
    "maxRem(5)\n",
    "        "
   ]
  },
  {
   "cell_type": "code",
   "execution_count": null,
   "metadata": {},
   "outputs": [],
   "source": []
  }
 ],
 "metadata": {
  "kernelspec": {
   "display_name": "Python 3",
   "language": "python",
   "name": "python3"
  },
  "language_info": {
   "codemirror_mode": {
    "name": "ipython",
    "version": 3
   },
   "file_extension": ".py",
   "mimetype": "text/x-python",
   "name": "python",
   "nbconvert_exporter": "python",
   "pygments_lexer": "ipython3",
   "version": "3.7.3"
  }
 },
 "nbformat": 4,
 "nbformat_minor": 2
}
